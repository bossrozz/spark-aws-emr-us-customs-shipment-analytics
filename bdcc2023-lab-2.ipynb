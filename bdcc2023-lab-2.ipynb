{
 "cells": [
  {
   "cell_type": "markdown",
   "metadata": {
    "execution": {
     "iopub.execute_input": "2023-06-10T13:03:33.469444Z",
     "iopub.status.busy": "2023-06-10T13:03:33.468954Z"
    }
   },
   "source": [
    "## Data pre-processing and extractor for US Shipments\n"
   ]
  },
  {
   "cell_type": "markdown",
   "metadata": {},
   "source": [
    "Code below was used to to create parquet files and extract the data we needed for our EDA / Descriptive analytics. The strategy was to write write the files into our S3 buckets and transfer it between the members for quick access with the files. All queries below after fetching the data will write it in the S3 bucket as a csv file."
   ]
  },
  {
   "cell_type": "code",
   "execution_count": 46,
   "metadata": {
    "execution": {
     "iopub.execute_input": "2023-06-11T08:01:07.466433Z",
     "iopub.status.busy": "2023-06-11T08:01:07.466157Z",
     "iopub.status.idle": "2023-06-11T08:01:07.511331Z",
     "shell.execute_reply": "2023-06-11T08:01:07.510701Z",
     "shell.execute_reply.started": "2023-06-11T08:01:07.466407Z"
    },
    "tags": []
   },
   "outputs": [
    {
     "data": {
      "application/vnd.jupyter.widget-view+json": {
       "model_id": "e0792b9981ff40b79670f68d0a53f57c",
       "version_major": 2,
       "version_minor": 0
      },
      "text/plain": [
       "VBox()"
      ]
     },
     "metadata": {},
     "output_type": "display_data"
    },
    {
     "data": {
      "application/vnd.jupyter.widget-view+json": {
       "model_id": "ec066404b7fc4f32b8a66f62da5c962d",
       "version_major": 2,
       "version_minor": 0
      },
      "text/plain": [
       "FloatProgress(value=0.0, bar_style='info', description='Progress:', layout=Layout(height='25px', width='50%'),…"
      ]
     },
     "metadata": {},
     "output_type": "display_data"
    },
    {
     "name": "stdout",
     "output_type": "stream",
     "text": [
      "<pyspark.sql.session.SparkSession object at 0x7f8e0dbe2610>"
     ]
    }
   ],
   "source": [
    "spark"
   ]
  },
  {
   "cell_type": "code",
   "execution_count": 47,
   "metadata": {
    "execution": {
     "iopub.execute_input": "2023-06-11T08:01:07.546495Z",
     "iopub.status.busy": "2023-06-11T08:01:07.546241Z",
     "iopub.status.idle": "2023-06-11T08:01:07.593177Z",
     "shell.execute_reply": "2023-06-11T08:01:07.592448Z",
     "shell.execute_reply.started": "2023-06-11T08:01:07.546471Z"
    },
    "tags": []
   },
   "outputs": [
    {
     "data": {
      "application/vnd.jupyter.widget-view+json": {
       "model_id": "4e06351df15942feb13483155b41a58f",
       "version_major": 2,
       "version_minor": 0
      },
      "text/plain": [
       "VBox()"
      ]
     },
     "metadata": {},
     "output_type": "display_data"
    },
    {
     "data": {
      "application/vnd.jupyter.widget-view+json": {
       "model_id": "",
       "version_major": 2,
       "version_minor": 0
      },
      "text/plain": [
       "FloatProgress(value=0.0, bar_style='info', description='Progress:', layout=Layout(height='25px', width='50%'),…"
      ]
     },
     "metadata": {},
     "output_type": "display_data"
    }
   ],
   "source": [
    "import boto3\n",
    "import pyspark.sql.functions as F\n",
    "from pyspark.sql.functions import count\n",
    "import pandas as pd\n",
    "from pyspark.sql.window import Window\n",
    "from pyspark.sql.functions import row_number\n",
    "dir_ = 's3-bucket-bdcc2023-lab2'"
   ]
  },
  {
   "cell_type": "markdown",
   "metadata": {},
   "source": [
    "### S3 Object Initialize"
   ]
  },
  {
   "cell_type": "code",
   "execution_count": 48,
   "metadata": {
    "execution": {
     "iopub.execute_input": "2023-06-11T08:01:08.062257Z",
     "iopub.status.busy": "2023-06-11T08:01:08.061959Z",
     "iopub.status.idle": "2023-06-11T08:01:08.315840Z",
     "shell.execute_reply": "2023-06-11T08:01:08.315139Z",
     "shell.execute_reply.started": "2023-06-11T08:01:08.062231Z"
    },
    "tags": []
   },
   "outputs": [
    {
     "data": {
      "application/vnd.jupyter.widget-view+json": {
       "model_id": "25e9c5e688cb4e08a2f2e103e31d827c",
       "version_major": 2,
       "version_minor": 0
      },
      "text/plain": [
       "VBox()"
      ]
     },
     "metadata": {},
     "output_type": "display_data"
    },
    {
     "data": {
      "application/vnd.jupyter.widget-view+json": {
       "model_id": "",
       "version_major": 2,
       "version_minor": 0
      },
      "text/plain": [
       "FloatProgress(value=0.0, bar_style='info', description='Progress:', layout=Layout(height='25px', width='50%'),…"
      ]
     },
     "metadata": {},
     "output_type": "display_data"
    }
   ],
   "source": [
    "# Initialize S3 Access\n",
    "aws_access_key_id = ''\n",
    "aws_secret_access_key = ''\n",
    "\n",
    "session = boto3.Session(aws_access_key_id=aws_access_key_id, aws_secret_access_key=aws_secret_access_key)\n",
    "s3 = session.client('s3')\n"
   ]
  },
  {
   "cell_type": "markdown",
   "metadata": {},
   "source": [
    "### Create Parquet Files"
   ]
  },
  {
   "cell_type": "code",
   "execution_count": 49,
   "metadata": {
    "execution": {
     "iopub.execute_input": "2023-06-11T08:01:10.865081Z",
     "iopub.status.busy": "2023-06-11T08:01:10.864773Z",
     "iopub.status.idle": "2023-06-11T08:01:10.912213Z",
     "shell.execute_reply": "2023-06-11T08:01:10.911512Z",
     "shell.execute_reply.started": "2023-06-11T08:01:10.865056Z"
    },
    "tags": []
   },
   "outputs": [
    {
     "data": {
      "application/vnd.jupyter.widget-view+json": {
       "model_id": "73917cd19b254ac683b58c5a363493a3",
       "version_major": 2,
       "version_minor": 0
      },
      "text/plain": [
       "VBox()"
      ]
     },
     "metadata": {},
     "output_type": "display_data"
    },
    {
     "data": {
      "application/vnd.jupyter.widget-view+json": {
       "model_id": "",
       "version_major": 2,
       "version_minor": 0
      },
      "text/plain": [
       "FloatProgress(value=0.0, bar_style='info', description='Progress:', layout=Layout(height='25px', width='50%'),…"
      ]
     },
     "metadata": {},
     "output_type": "display_data"
    }
   ],
   "source": [
    "# Create parquet for header table\n",
    "# df_h1 = spark.read.csv(f's3://{dir_}/ams__header_2018__202001290000.csv', header=True)\n",
    "# df_h2 = spark.read.csv(f's3://{dir_}/ams__header_2019__202001080000.csv', header=True)\n",
    "# df_h3 = spark.read.csv(f's3://{dir_}/ams__header_2020__202009291500.csv', header=True)\n",
    "\n",
    "# union_df = df_h1.union(df_h2)\n",
    "# union_df = union_df.union(df_h3)\n",
    "\n",
    "# union_df.write.mode('overwrite').parquet(f's3://{dir_}/header.parquet')\n",
    "# df_h1, df_h2, df_h3 = None, None, None"
   ]
  },
  {
   "cell_type": "code",
   "execution_count": 50,
   "metadata": {
    "execution": {
     "iopub.execute_input": "2023-06-11T08:01:10.964795Z",
     "iopub.status.busy": "2023-06-11T08:01:10.964416Z",
     "iopub.status.idle": "2023-06-11T08:01:11.010218Z",
     "shell.execute_reply": "2023-06-11T08:01:11.009577Z",
     "shell.execute_reply.started": "2023-06-11T08:01:10.964755Z"
    },
    "tags": []
   },
   "outputs": [
    {
     "data": {
      "application/vnd.jupyter.widget-view+json": {
       "model_id": "69f01da3218f4d878874bd0e296f7096",
       "version_major": 2,
       "version_minor": 0
      },
      "text/plain": [
       "VBox()"
      ]
     },
     "metadata": {},
     "output_type": "display_data"
    },
    {
     "data": {
      "application/vnd.jupyter.widget-view+json": {
       "model_id": "",
       "version_major": 2,
       "version_minor": 0
      },
      "text/plain": [
       "FloatProgress(value=0.0, bar_style='info', description='Progress:', layout=Layout(height='25px', width='50%'),…"
      ]
     },
     "metadata": {},
     "output_type": "display_data"
    }
   ],
   "source": [
    "# Create parquet for container table\n",
    "# df_c1 = spark.read.csv(f's3://{dir_}/ams__container_2018__202001290000.csv', header=True)\n",
    "# df_c2 = spark.read.csv(f's3://{dir_}/ams__container_2019__202001080000.csv', header=True)\n",
    "# df_c3 = spark.read.csv(f's3://{dir_}/ams__container_2020__202009291500.csv', header=True)\n",
    "\n",
    "# union_df = df_c1.union(df_c2)\n",
    "# union_df = union_df.union(df_c3)\n",
    "\n",
    "# union_df.write.mode('overwrite').parquet(f's3://{dir_}/container.parquet')\n",
    "# df_c1, df_c2, df_c3 = None, None, None"
   ]
  },
  {
   "cell_type": "code",
   "execution_count": 51,
   "metadata": {
    "execution": {
     "iopub.execute_input": "2023-06-11T08:01:11.177143Z",
     "iopub.status.busy": "2023-06-11T08:01:11.176836Z",
     "iopub.status.idle": "2023-06-11T08:01:11.217332Z",
     "shell.execute_reply": "2023-06-11T08:01:11.216650Z",
     "shell.execute_reply.started": "2023-06-11T08:01:11.177117Z"
    },
    "tags": []
   },
   "outputs": [
    {
     "data": {
      "application/vnd.jupyter.widget-view+json": {
       "model_id": "7af7a2c12a01432f89ea5be7c20d5317",
       "version_major": 2,
       "version_minor": 0
      },
      "text/plain": [
       "VBox()"
      ]
     },
     "metadata": {},
     "output_type": "display_data"
    },
    {
     "data": {
      "application/vnd.jupyter.widget-view+json": {
       "model_id": "",
       "version_major": 2,
       "version_minor": 0
      },
      "text/plain": [
       "FloatProgress(value=0.0, bar_style='info', description='Progress:', layout=Layout(height='25px', width='50%'),…"
      ]
     },
     "metadata": {},
     "output_type": "display_data"
    }
   ],
   "source": [
    "# Create parquet for container table\n",
    "# df_s1 = spark.read.csv(f's3://{dir_}/ams__shipper_2018__202001290000.csv', header=True)\n",
    "# df_s2 = spark.read.csv(f's3://{dir_}/ams__shipper_2019__202001080000.csv', header=True)\n",
    "# df_s3 = spark.read.csv(f's3://{dir_}/ams__shipper_2020__202009291500.csv', header=True)\n",
    "\n",
    "# union_df = df_s1.union(df_s2)\n",
    "# union_df = union_df.union(df_s3)\n",
    "\n",
    "# union_df.write.mode('overwrite').parquet(f's3://{dir_}/shipper.parquet')\n",
    "# df_s1, df_s2, df_s3 = None, None, None"
   ]
  },
  {
   "cell_type": "code",
   "execution_count": 52,
   "metadata": {
    "execution": {
     "iopub.execute_input": "2023-06-11T08:01:11.661984Z",
     "iopub.status.busy": "2023-06-11T08:01:11.661683Z",
     "iopub.status.idle": "2023-06-11T08:01:11.711929Z",
     "shell.execute_reply": "2023-06-11T08:01:11.709885Z",
     "shell.execute_reply.started": "2023-06-11T08:01:11.661959Z"
    },
    "tags": []
   },
   "outputs": [
    {
     "data": {
      "application/vnd.jupyter.widget-view+json": {
       "model_id": "b20b775987d34e398cfe818d96ab0477",
       "version_major": 2,
       "version_minor": 0
      },
      "text/plain": [
       "VBox()"
      ]
     },
     "metadata": {},
     "output_type": "display_data"
    },
    {
     "data": {
      "application/vnd.jupyter.widget-view+json": {
       "model_id": "",
       "version_major": 2,
       "version_minor": 0
      },
      "text/plain": [
       "FloatProgress(value=0.0, bar_style='info', description='Progress:', layout=Layout(height='25px', width='50%'),…"
      ]
     },
     "metadata": {},
     "output_type": "display_data"
    }
   ],
   "source": [
    "# Country Name Dictionary Mapping\n",
    "\n",
    "country_codes = {\n",
    "    'AF': 'Afghanistan',\n",
    "    'AL': 'Albania',\n",
    "    'DZ': 'Algeria',\n",
    "    'AD': 'Andorra',\n",
    "    'AO': 'Angola',\n",
    "    'AI': 'Anguilla',\n",
    "    'AG': 'Antigua and Barbuda',\n",
    "    'AR': 'Argentina',\n",
    "    'AM': 'Armenia',\n",
    "    'AW': 'Aruba',\n",
    "    'AU': 'Australia',\n",
    "    'AT': 'Austria',\n",
    "    'AZ': 'Azerbaijan',\n",
    "    'BS': 'Bahamas',\n",
    "    'BH': 'Bahrain',\n",
    "    'BD': 'Bangladesh',\n",
    "    'BB': 'Barbados',\n",
    "    'BY': 'Belarus',\n",
    "    'BE': 'Belgium',\n",
    "    'BZ': 'Belize',\n",
    "    'BJ': 'Benin',\n",
    "    'BM': 'Bermuda',\n",
    "    'BT': 'Bhutan',\n",
    "    'BO': 'Bolivia',\n",
    "    'BA': 'Bosnia and Herzegovina',\n",
    "    'BW': 'Botswana',\n",
    "    'BR': 'Brazil',\n",
    "    'VG': 'British Virgin Islands',\n",
    "    'BN': 'Brunei',\n",
    "    'BG': 'Bulgaria',\n",
    "    'BF': 'Burkina Faso',\n",
    "    'BI': 'Burundi',\n",
    "    'KH': 'Cambodia',\n",
    "    'CM': 'Cameroon',\n",
    "    'CA': 'Canada',\n",
    "    'CV': 'Cape Verde',\n",
    "    'KY': 'Cayman Islands',\n",
    "    'CF': 'Central African Republic',\n",
    "    'TD': 'Chad',\n",
    "    'CL': 'Chile',\n",
    "    'CN': 'China',\n",
    "    'CO': 'Colombia',\n",
    "    'KM': 'Comoros',\n",
    "    'CG': 'Congo',\n",
    "    'CK': 'Cook Islands',\n",
    "    'CR': 'Costa Rica',\n",
    "    'HR': 'Croatia',\n",
    "    'CU': 'Cuba',\n",
    "    'CY': 'Cyprus',\n",
    "    'CZ': 'Czech Republic',\n",
    "    'DK': 'Denmark',\n",
    "    'DJ': 'Djibouti',\n",
    "    'DM': 'Dominica',\n",
    "    'DO': 'Dominican Republic',\n",
    "    'TL': 'East Timor',\n",
    "    'EC': 'Ecuador',\n",
    "    'EG': 'Egypt',\n",
    "    'SV': 'El Salvador',\n",
    "    'GQ': 'Equatorial Guinea',\n",
    "    'ER': 'Eritrea',\n",
    "    'EE': 'Estonia',\n",
    "    'ET': 'Ethiopia',\n",
    "    'FK': 'Falkland Islands',\n",
    "    'FO': 'Faroe Islands',\n",
    "    'FJ': 'Fiji',\n",
    "    'FI': 'Finland',\n",
    "    'FR': 'France',\n",
    "    'GF': 'French Guiana',\n",
    "    'PF': 'French Polynesia',\n",
    "    'GA': 'Gabon',\n",
    "    'GM': 'Gambia',\n",
    "    'GE': 'Georgia',\n",
    "    'DE': 'Germany',\n",
    "    'GH': 'Ghana',\n",
    "    'GI': 'Gibraltar',\n",
    "    'GR': 'Greece',\n",
    "    'GL': 'Greenland',\n",
    "    'GD': 'Grenada',\n",
    "    'GP': 'Guadeloupe',\n",
    "    'GT': 'Guatemala',\n",
    "    'GN': 'Guinea',\n",
    "    'GW': 'Guinea-Bissau',\n",
    "    'GY': 'Guyana',\n",
    "    'HT': 'Haiti',\n",
    "    'HN': 'Honduras',\n",
    "    'HK': 'Hong Kong',\n",
    "    'HU': 'Hungary',\n",
    "    'IS': 'Iceland',\n",
    "    'IN': 'India',\n",
    "    'ID': 'Indonesia',\n",
    "    'IR': 'Iran',\n",
    "    'IQ': 'Iraq',\n",
    "    'IE': 'Ireland',\n",
    "    'IL': 'Israel',\n",
    "    'IT': 'Italy',\n",
    "    'JM': 'Jamaica',\n",
    "    'JP': 'Japan',\n",
    "    'JO': 'Jordan',\n",
    "    'KZ': 'Kazakhstan',\n",
    "    'KE': 'Kenya',\n",
    "    'KI': 'Kiribati',\n",
    "    'KW': 'Kuwait',\n",
    "    'KG': 'Kyrgyzstan',\n",
    "    'LA': 'Laos',\n",
    "    'LV': 'Latvia',\n",
    "    'LB': 'Lebanon',\n",
    "    'LS': 'Lesotho',\n",
    "    'LR': 'Liberia',\n",
    "    'LY': 'Libya',\n",
    "    'LI': 'Liechtenstein',\n",
    "    'LT': 'Lithuania',\n",
    "    'LU': 'Luxembourg',\n",
    "    'MO': 'Macau',\n",
    "    'MK': 'North Macedonia',\n",
    "    'MG': 'Madagascar',\n",
    "    'MW': 'Malawi',\n",
    "    'MY': 'Malaysia',\n",
    "    'MV': 'Maldives',\n",
    "    'ML': 'Mali',\n",
    "    'MT': 'Malta',\n",
    "    'MH': 'Marshall Islands',\n",
    "    'MQ': 'Martinique',\n",
    "    'MR': 'Mauritania',\n",
    "    'MU': 'Mauritius',\n",
    "    'YT': 'Mayotte',\n",
    "    'MX': 'Mexico',\n",
    "    'FM': 'Micronesia',\n",
    "    'MD': 'Moldova',\n",
    "    'MC': 'Monaco',\n",
    "    'MN': 'Mongolia',\n",
    "    'ME': 'Montenegro',\n",
    "    'MS': 'Montserrat',\n",
    "    'MA': 'Morocco',\n",
    "    'MZ': 'Mozambique',\n",
    "    'MM': 'Myanmar',\n",
    "    'NA': 'Namibia',\n",
    "    'NR': 'Nauru',\n",
    "    'NP': 'Nepal',\n",
    "    'NL': 'Netherlands',\n",
    "    'NC': 'New Caledonia',\n",
    "    'NZ': 'New Zealand',\n",
    "    'NI': 'Nicaragua',\n",
    "    'NE': 'Niger',\n",
    "    'NG': 'Nigeria',\n",
    "    'NU': 'Niue',\n",
    "    'NF': 'Norfolk Island',\n",
    "    'KP': 'North Korea',\n",
    "    'NO': 'Norway',\n",
    "    'OM': 'Oman',\n",
    "    'PK': 'Pakistan',\n",
    "    'PW': 'Palau',\n",
    "    'PA': 'Panama',\n",
    "    'PG': 'Papua New Guinea',\n",
    "    'PY': 'Paraguay',\n",
    "    'PE': 'Peru',\n",
    "    'PH': 'Philippines',\n",
    "    'PL': 'Poland',\n",
    "    'PT': 'Portugal',\n",
    "    'QA': 'Qatar',\n",
    "    'RE': 'Réunion',\n",
    "    'RO': 'Romania',\n",
    "    'RU': 'Russia',\n",
    "    'RW': 'Rwanda',\n",
    "    'BL': 'Saint Barthélemy',\n",
    "    'SH': 'Saint Helena',\n",
    "    'KN': 'Saint Kitts and Nevis',\n",
    "    'LC': 'Saint Lucia',\n",
    "    'MF': 'Saint Martin',\n",
    "    'PM': 'Saint Pierre and Miquelon',\n",
    "    'VC': 'Saint Vincent and the Grenadines',\n",
    "    'WS': 'Samoa',\n",
    "    'SM': 'San Marino',\n",
    "    'ST': 'São Tomé and Príncipe',\n",
    "    'SA': 'Saudi Arabia',\n",
    "    'SN': 'Senegal',\n",
    "    'RS': 'Serbia',\n",
    "    'SC': 'Seychelles',\n",
    "    'SL': 'Sierra Leone',\n",
    "    'SG': 'Singapore',\n",
    "    'SK': 'Slovakia',\n",
    "    'SI': 'Slovenia',\n",
    "    'SB': 'Solomon Islands',\n",
    "    'SO': 'Somalia',\n",
    "    'ZA': 'South Africa',\n",
    "    'KR': 'South Korea',\n",
    "    'SS': 'South Sudan',\n",
    "    'ES': 'Spain',\n",
    "    'LK': 'Sri Lanka',\n",
    "    'SD': 'Sudan',\n",
    "    'SR': 'Suriname',\n",
    "    'SZ': 'Eswatini',\n",
    "    'SE': 'Sweden',\n",
    "    'CH': 'Switzerland',\n",
    "    'SY': 'Syria',\n",
    "    'TW': 'Taiwan',\n",
    "    'TJ': 'Tajikistan',\n",
    "    'TZ': 'Tanzania',\n",
    "    'TH': 'Thailand',\n",
    "    'TG': 'Togo',\n",
    "    'TO': 'Tonga',\n",
    "    'TT': 'Trinidad and Tobago',\n",
    "    'TN': 'Tunisia',\n",
    "    'TR': 'Turkey',\n",
    "    'TM': 'Turkmenistan',\n",
    "    'TC': 'Turks and Caicos Islands',\n",
    "    'TV': 'Tuvalu',\n",
    "    'UG': 'Uganda',\n",
    "    'UA': 'Ukraine',\n",
    "    'AE': 'United Arab Emirates',\n",
    "    'GB': 'United Kingdom',\n",
    "    'US': 'United States',\n",
    "    'UY': 'Uruguay',\n",
    "    'UZ': 'Uzbekistan',\n",
    "    'VU': 'Vanuatu',\n",
    "    'VA': 'Vatican City',\n",
    "    'VE': 'Venezuela',\n",
    "    'VN': 'Vietnam',\n",
    "    'WF': 'Wallis and Futuna',\n",
    "    'YE': 'Yemen',\n",
    "    'ZM': 'Zambia',\n",
    "    'ZW': 'Zimbabwe'\n",
    "}\n"
   ]
  },
  {
   "cell_type": "markdown",
   "metadata": {},
   "source": [
    "### Feature Engineering and Loading of Parquet Files"
   ]
  },
  {
   "cell_type": "code",
   "execution_count": 53,
   "metadata": {
    "execution": {
     "iopub.execute_input": "2023-06-11T08:01:28.426823Z",
     "iopub.status.busy": "2023-06-11T08:01:28.426435Z",
     "iopub.status.idle": "2023-06-11T08:01:30.733945Z",
     "shell.execute_reply": "2023-06-11T08:01:30.731287Z",
     "shell.execute_reply.started": "2023-06-11T08:01:28.426784Z"
    },
    "tags": []
   },
   "outputs": [
    {
     "data": {
      "application/vnd.jupyter.widget-view+json": {
       "model_id": "190d7b4caf384a2bb3377f34600a8d0d",
       "version_major": 2,
       "version_minor": 0
      },
      "text/plain": [
       "VBox()"
      ]
     },
     "metadata": {},
     "output_type": "display_data"
    },
    {
     "data": {
      "application/vnd.jupyter.widget-view+json": {
       "model_id": "",
       "version_major": 2,
       "version_minor": 0
      },
      "text/plain": [
       "FloatProgress(value=0.0, bar_style='info', description='Progress:', layout=Layout(height='25px', width='50%'),…"
      ]
     },
     "metadata": {},
     "output_type": "display_data"
    }
   ],
   "source": [
    "df_header = (spark.read.parquet(f's3://{dir_}/header.parquet')\n",
    "                  .where((F.col('vessel_country_code').isNotNull()) & \n",
    "                         (F.col('actual_arrival_date').isNotNull()) & \n",
    "                         (F.col('estimated_arrival_date') >= '2018-01-01') &\n",
    "                         (F.col('actual_arrival_date') >= '2018-01-01') &\n",
    "                         (F.col('estimated_arrival_date') <= '2020-12-31') &\n",
    "                         (F.col('actual_arrival_date') <= '2020-12-31') \n",
    "                         )\n",
    "                  .withColumn('actual_year', F.year('actual_arrival_date'))\n",
    "                  .withColumn('actual_month', F.month('actual_arrival_date'))\n",
    "                  .withColumn('estimated_year', F.year('estimated_arrival_date'))\n",
    "                  .withColumn('estimated_month', F.month('estimated_arrival_date'))\n",
    "                  .withColumn('actual_year_month', F.date_format('actual_arrival_date', 'yyyy-MM'))\n",
    "                  .withColumn('estimated_year_month', F.date_format('estimated_arrival_date', 'yyyy-MM'))\n",
    "                  .withColumn('delay', F.datediff(F.col('actual_arrival_date'), \n",
    "                                                     F.col('estimated_arrival_date')))\n",
    "                     .withColumn('is_delayed', F.when(F.col(\"delay\") > 0, 'delayed')\n",
    "                                               .when(F.col(\"delay\") < 0, 'early')\n",
    "                                               .otherwise('on schedule')).cache()\n",
    "                 )\n",
    "df_container = spark.read.parquet(f's3://{dir_}/container.parquet') \n",
    "df_shipper = spark.read.parquet(f's3://{dir_}/shipper.parquet')"
   ]
  },
  {
   "cell_type": "code",
   "execution_count": 264,
   "metadata": {
    "execution": {
     "iopub.execute_input": "2023-06-01T17:36:46.715280Z",
     "iopub.status.busy": "2023-06-01T17:36:46.714937Z",
     "iopub.status.idle": "2023-06-01T17:36:49.049372Z",
     "shell.execute_reply": "2023-06-01T17:36:49.048612Z",
     "shell.execute_reply.started": "2023-06-01T17:36:46.715243Z"
    },
    "tags": []
   },
   "outputs": [
    {
     "data": {
      "application/vnd.jupyter.widget-view+json": {
       "model_id": "decbfc529df5442aa6a4b9cc5731814b",
       "version_major": 2,
       "version_minor": 0
      },
      "text/plain": [
       "VBox()"
      ]
     },
     "metadata": {},
     "output_type": "display_data"
    },
    {
     "data": {
      "application/vnd.jupyter.widget-view+json": {
       "model_id": "",
       "version_major": 2,
       "version_minor": 0
      },
      "text/plain": [
       "FloatProgress(value=0.0, bar_style='info', description='Progress:', layout=Layout(height='25px', width='50%'),…"
      ]
     },
     "metadata": {},
     "output_type": "display_data"
    },
    {
     "name": "stdout",
     "output_type": "stream",
     "text": [
      "Header Row Count: 53844894\n",
      "Container Row Count: 85503338\n",
      "Shipper Row Count: 40240366"
     ]
    }
   ],
   "source": [
    "print('Header Row Count: ' + str(df_header.count()))\n",
    "print('Container Row Count: ' + str(df_container.count()))\n",
    "print('Shipper Row Count: ' + str(df_shipper.count()))"
   ]
  },
  {
   "cell_type": "code",
   "execution_count": 265,
   "metadata": {
    "execution": {
     "iopub.execute_input": "2023-06-01T17:36:49.051075Z",
     "iopub.status.busy": "2023-06-01T17:36:49.050835Z",
     "iopub.status.idle": "2023-06-01T17:36:49.110726Z",
     "shell.execute_reply": "2023-06-01T17:36:49.100885Z",
     "shell.execute_reply.started": "2023-06-01T17:36:49.051050Z"
    },
    "tags": []
   },
   "outputs": [
    {
     "data": {
      "application/vnd.jupyter.widget-view+json": {
       "model_id": "de00137e43ef461bbe5c6c32aca667d1",
       "version_major": 2,
       "version_minor": 0
      },
      "text/plain": [
       "VBox()"
      ]
     },
     "metadata": {},
     "output_type": "display_data"
    },
    {
     "data": {
      "application/vnd.jupyter.widget-view+json": {
       "model_id": "",
       "version_major": 2,
       "version_minor": 0
      },
      "text/plain": [
       "FloatProgress(value=0.0, bar_style='info', description='Progress:', layout=Layout(height='25px', width='50%'),…"
      ]
     },
     "metadata": {},
     "output_type": "display_data"
    },
    {
     "name": "stdout",
     "output_type": "stream",
     "text": [
      "root\n",
      " |-- identifier: string (nullable = true)\n",
      " |-- carrier_code: string (nullable = true)\n",
      " |-- vessel_country_code: string (nullable = true)\n",
      " |-- vessel_name: string (nullable = true)\n",
      " |-- port_of_unlading: string (nullable = true)\n",
      " |-- estimated_arrival_date: string (nullable = true)\n",
      " |-- foreign_port_of_lading_qualifier: string (nullable = true)\n",
      " |-- foreign_port_of_lading: string (nullable = true)\n",
      " |-- manifest_quantity: string (nullable = true)\n",
      " |-- manifest_unit: string (nullable = true)\n",
      " |-- weight: string (nullable = true)\n",
      " |-- weight_unit: string (nullable = true)\n",
      " |-- measurement: string (nullable = true)\n",
      " |-- measurement_unit: string (nullable = true)\n",
      " |-- record_status_indicator: string (nullable = true)\n",
      " |-- place_of_receipt: string (nullable = true)\n",
      " |-- port_of_destination: string (nullable = true)\n",
      " |-- foreign_port_of_destination_qualifier: string (nullable = true)\n",
      " |-- foreign_port_of_destination: string (nullable = true)\n",
      " |-- conveyance_id_qualifier: string (nullable = true)\n",
      " |-- conveyance_id: string (nullable = true)\n",
      " |-- in_bond_entry_type: string (nullable = true)\n",
      " |-- mode_of_transportation: string (nullable = true)\n",
      " |-- secondary_notify_party_1: string (nullable = true)\n",
      " |-- secondary_notify_party_2: string (nullable = true)\n",
      " |-- secondary_notify_party_3: string (nullable = true)\n",
      " |-- secondary_notify_party_4: string (nullable = true)\n",
      " |-- secondary_notify_party_5: string (nullable = true)\n",
      " |-- secondary_notify_party_6: string (nullable = true)\n",
      " |-- secondary_notify_party_7: string (nullable = true)\n",
      " |-- secondary_notify_party_8: string (nullable = true)\n",
      " |-- secondary_notify_party_9: string (nullable = true)\n",
      " |-- secondary_notify_party_10: string (nullable = true)\n",
      " |-- actual_arrival_date: string (nullable = true)\n",
      " |-- actual_year: integer (nullable = true)\n",
      " |-- actual_month: integer (nullable = true)\n",
      " |-- estimated_year: integer (nullable = true)\n",
      " |-- estimated_month: integer (nullable = true)\n",
      " |-- actual_year_month: string (nullable = true)\n",
      " |-- estimated_year_month: string (nullable = true)\n",
      " |-- delay: integer (nullable = true)\n",
      " |-- is_delayed: string (nullable = false)"
     ]
    }
   ],
   "source": [
    "df_header.printSchema()"
   ]
  },
  {
   "cell_type": "code",
   "execution_count": 266,
   "metadata": {
    "execution": {
     "iopub.execute_input": "2023-06-01T17:36:49.112904Z",
     "iopub.status.busy": "2023-06-01T17:36:49.112413Z",
     "iopub.status.idle": "2023-06-01T17:36:50.423851Z",
     "shell.execute_reply": "2023-06-01T17:36:50.423005Z",
     "shell.execute_reply.started": "2023-06-01T17:36:49.112876Z"
    },
    "tags": []
   },
   "outputs": [
    {
     "data": {
      "application/vnd.jupyter.widget-view+json": {
       "model_id": "77d9922b6dd2499e9380747380684122",
       "version_major": 2,
       "version_minor": 0
      },
      "text/plain": [
       "VBox()"
      ]
     },
     "metadata": {},
     "output_type": "display_data"
    },
    {
     "data": {
      "application/vnd.jupyter.widget-view+json": {
       "model_id": "",
       "version_major": 2,
       "version_minor": 0
      },
      "text/plain": [
       "FloatProgress(value=0.0, bar_style='info', description='Progress:', layout=Layout(height='25px', width='50%'),…"
      ]
     },
     "metadata": {},
     "output_type": "display_data"
    },
    {
     "name": "stdout",
     "output_type": "stream",
     "text": [
      "root\n",
      " |-- identifier: string (nullable = true)\n",
      " |-- container_number: string (nullable = true)\n",
      " |-- seal_number_1: string (nullable = true)\n",
      " |-- seal_number_2: string (nullable = true)\n",
      " |-- equipment_description_code: string (nullable = true)\n",
      " |-- container_length: string (nullable = true)\n",
      " |-- container_height: string (nullable = true)\n",
      " |-- container_width: string (nullable = true)\n",
      " |-- container_type: string (nullable = true)\n",
      " |-- load_status: string (nullable = true)\n",
      " |-- type_of_service: string (nullable = true)"
     ]
    }
   ],
   "source": [
    "df_container.printSchema()"
   ]
  },
  {
   "cell_type": "code",
   "execution_count": 267,
   "metadata": {
    "execution": {
     "iopub.execute_input": "2023-06-01T17:36:50.425566Z",
     "iopub.status.busy": "2023-06-01T17:36:50.425231Z",
     "iopub.status.idle": "2023-06-01T17:36:50.477751Z",
     "shell.execute_reply": "2023-06-01T17:36:50.477060Z",
     "shell.execute_reply.started": "2023-06-01T17:36:50.425529Z"
    },
    "tags": []
   },
   "outputs": [
    {
     "data": {
      "application/vnd.jupyter.widget-view+json": {
       "model_id": "8bc1d9e930694967a8f75fc24af6f7cc",
       "version_major": 2,
       "version_minor": 0
      },
      "text/plain": [
       "VBox()"
      ]
     },
     "metadata": {},
     "output_type": "display_data"
    },
    {
     "data": {
      "application/vnd.jupyter.widget-view+json": {
       "model_id": "",
       "version_major": 2,
       "version_minor": 0
      },
      "text/plain": [
       "FloatProgress(value=0.0, bar_style='info', description='Progress:', layout=Layout(height='25px', width='50%'),…"
      ]
     },
     "metadata": {},
     "output_type": "display_data"
    },
    {
     "name": "stdout",
     "output_type": "stream",
     "text": [
      "root\n",
      " |-- identifier: string (nullable = true)\n",
      " |-- shipper_party_name: string (nullable = true)\n",
      " |-- shipper_party_address_1: string (nullable = true)\n",
      " |-- shipper_party_address_2: string (nullable = true)\n",
      " |-- shipper_party_address_3: string (nullable = true)\n",
      " |-- shipper_party_address_4: string (nullable = true)\n",
      " |-- city: string (nullable = true)\n",
      " |-- state_province: string (nullable = true)\n",
      " |-- zip_code: string (nullable = true)\n",
      " |-- country_code: string (nullable = true)\n",
      " |-- contact_name: string (nullable = true)\n",
      " |-- comm_number_qualifier: string (nullable = true)\n",
      " |-- comm_number: string (nullable = true)"
     ]
    }
   ],
   "source": [
    "df_shipper.printSchema()"
   ]
  },
  {
   "cell_type": "markdown",
   "metadata": {},
   "source": [
    "### Queries and Data Extraction"
   ]
  },
  {
   "cell_type": "markdown",
   "metadata": {},
   "source": [
    "#### Year-Month Shipment Count"
   ]
  },
  {
   "cell_type": "code",
   "execution_count": 268,
   "metadata": {
    "execution": {
     "iopub.execute_input": "2023-06-01T17:36:50.478958Z",
     "iopub.status.busy": "2023-06-01T17:36:50.478736Z",
     "iopub.status.idle": "2023-06-01T17:36:53.745559Z",
     "shell.execute_reply": "2023-06-01T17:36:53.744725Z",
     "shell.execute_reply.started": "2023-06-01T17:36:50.478935Z"
    },
    "tags": []
   },
   "outputs": [
    {
     "data": {
      "application/vnd.jupyter.widget-view+json": {
       "model_id": "93fb59804653433ebcf9c528cc344f04",
       "version_major": 2,
       "version_minor": 0
      },
      "text/plain": [
       "VBox()"
      ]
     },
     "metadata": {},
     "output_type": "display_data"
    },
    {
     "data": {
      "application/vnd.jupyter.widget-view+json": {
       "model_id": "",
       "version_major": 2,
       "version_minor": 0
      },
      "text/plain": [
       "FloatProgress(value=0.0, bar_style='info', description='Progress:', layout=Layout(height='25px', width='50%'),…"
      ]
     },
     "metadata": {},
     "output_type": "display_data"
    },
    {
     "name": "stdout",
     "output_type": "stream",
     "text": [
      "  actual_year_month  actual_year  actual_month    count\n",
      "0           2018-01         2018             1  1469569\n",
      "1           2018-02         2018             2  1493627\n",
      "2           2018-03         2018             3  1401190\n",
      "3           2018-04         2018             4  1520733\n",
      "4           2018-05         2018             5  1862740\n",
      "5           2018-06         2018             6  1863438\n",
      "6           2018-07         2018             7  1808743\n",
      "7           2018-08         2018             8  1737468\n",
      "8           2018-09         2018             9  1686185\n",
      "9           2018-10         2018            10  1845571"
     ]
    }
   ],
   "source": [
    "df_shipment = (df_header.groupBy('actual_year_month', 'actual_year', 'actual_month').count()\n",
    "                        .orderBy('actual_year_month').toPandas())\n",
    "write_csv = df_shipment.to_csv(index=False)\n",
    "s3.put_object(Body=write_csv, Bucket=dir_, Key='extracted_csv/year_month_shipment.csv')\n",
    "df_shipment.head(10)\n",
    "\n"
   ]
  },
  {
   "cell_type": "markdown",
   "metadata": {},
   "source": [
    "#### Year Shipment Count"
   ]
  },
  {
   "cell_type": "code",
   "execution_count": 269,
   "metadata": {
    "execution": {
     "iopub.execute_input": "2023-06-01T17:36:53.746839Z",
     "iopub.status.busy": "2023-06-01T17:36:53.746610Z",
     "iopub.status.idle": "2023-06-01T17:36:55.003807Z",
     "shell.execute_reply": "2023-06-01T17:36:55.003006Z",
     "shell.execute_reply.started": "2023-06-01T17:36:53.746815Z"
    },
    "tags": []
   },
   "outputs": [
    {
     "data": {
      "application/vnd.jupyter.widget-view+json": {
       "model_id": "fcf8befeb19241029c864102ecbb4aff",
       "version_major": 2,
       "version_minor": 0
      },
      "text/plain": [
       "VBox()"
      ]
     },
     "metadata": {},
     "output_type": "display_data"
    },
    {
     "data": {
      "application/vnd.jupyter.widget-view+json": {
       "model_id": "",
       "version_major": 2,
       "version_minor": 0
      },
      "text/plain": [
       "FloatProgress(value=0.0, bar_style='info', description='Progress:', layout=Layout(height='25px', width='50%'),…"
      ]
     },
     "metadata": {},
     "output_type": "display_data"
    },
    {
     "name": "stdout",
     "output_type": "stream",
     "text": [
      "   actual_year     count\n",
      "0         2018  20008181\n",
      "1         2019  19020357\n",
      "2         2020  14816356"
     ]
    }
   ],
   "source": [
    "df_shipment = (df_header.groupBy('actual_year').count()\n",
    "                        .orderBy('actual_year').toPandas())\n",
    "write_csv = df_shipment.to_csv(index=False)\n",
    "s3.put_object(Body=write_csv, Bucket=dir_, Key='extracted_csv/year_shipment.csv')\n",
    "df_shipment.head(10)\n",
    "\n"
   ]
  },
  {
   "cell_type": "markdown",
   "metadata": {},
   "source": [
    "#### Country Shipment Count"
   ]
  },
  {
   "cell_type": "code",
   "execution_count": 270,
   "metadata": {
    "execution": {
     "iopub.execute_input": "2023-06-01T17:36:55.006420Z",
     "iopub.status.busy": "2023-06-01T17:36:55.006182Z",
     "iopub.status.idle": "2023-06-01T17:36:57.284849Z",
     "shell.execute_reply": "2023-06-01T17:36:57.284039Z",
     "shell.execute_reply.started": "2023-06-01T17:36:55.006395Z"
    },
    "tags": []
   },
   "outputs": [
    {
     "data": {
      "application/vnd.jupyter.widget-view+json": {
       "model_id": "7ae8aca6905744038832f3c7734363e3",
       "version_major": 2,
       "version_minor": 0
      },
      "text/plain": [
       "VBox()"
      ]
     },
     "metadata": {},
     "output_type": "display_data"
    },
    {
     "data": {
      "application/vnd.jupyter.widget-view+json": {
       "model_id": "",
       "version_major": 2,
       "version_minor": 0
      },
      "text/plain": [
       "FloatProgress(value=0.0, bar_style='info', description='Progress:', layout=Layout(height='25px', width='50%'),…"
      ]
     },
     "metadata": {},
     "output_type": "display_data"
    },
    {
     "name": "stdout",
     "output_type": "stream",
     "text": [
      "  vessel_country_code    count      country_name\n",
      "0                  PA  9120363            Panama\n",
      "1                  LR  7946666           Liberia\n",
      "2                  HK  7898450         Hong Kong\n",
      "3                  SG  4959128         Singapore\n",
      "4                  GB  3440088    United Kingdom\n",
      "5                  US  3043480     United States\n",
      "6                  MT  2813868             Malta\n",
      "7                  DE  2363417           Germany\n",
      "8                  MH  2083770  Marshall Islands\n",
      "9                  DK  1855280           Denmark"
     ]
    }
   ],
   "source": [
    "df_country = (df_header.groupBy('vessel_country_code').count()\n",
    "                        .orderBy(F.desc('count')).toPandas())\n",
    "df_country[\"country_name\"] = df_country[\"vessel_country_code\"].map(country_codes)\n",
    "write_csv = df_country.to_csv(index=False)\n",
    "s3.put_object(Body=write_csv, Bucket=dir_, Key='extracted_csv/country_count.csv')\n",
    "df_country.head(10)\n",
    "\n"
   ]
  },
  {
   "cell_type": "markdown",
   "metadata": {},
   "source": [
    "#### Top 10 Country Per Year Shipment Count"
   ]
  },
  {
   "cell_type": "code",
   "execution_count": 271,
   "metadata": {
    "execution": {
     "iopub.execute_input": "2023-06-01T17:36:57.287586Z",
     "iopub.status.busy": "2023-06-01T17:36:57.287249Z",
     "iopub.status.idle": "2023-06-01T17:36:59.606826Z",
     "shell.execute_reply": "2023-06-01T17:36:59.606134Z",
     "shell.execute_reply.started": "2023-06-01T17:36:57.287548Z"
    },
    "tags": []
   },
   "outputs": [
    {
     "data": {
      "application/vnd.jupyter.widget-view+json": {
       "model_id": "b6564c341eda4672b92e02f9a45d1588",
       "version_major": 2,
       "version_minor": 0
      },
      "text/plain": [
       "VBox()"
      ]
     },
     "metadata": {},
     "output_type": "display_data"
    },
    {
     "data": {
      "application/vnd.jupyter.widget-view+json": {
       "model_id": "",
       "version_major": 2,
       "version_minor": 0
      },
      "text/plain": [
       "FloatProgress(value=0.0, bar_style='info', description='Progress:', layout=Layout(height='25px', width='50%'),…"
      ]
     },
     "metadata": {},
     "output_type": "display_data"
    },
    {
     "name": "stdout",
     "output_type": "stream",
     "text": [
      "  vessel_country_code  actual_year    count  row_num      country_name\n",
      "0                  PA         2018  3491737        1            Panama\n",
      "1                  HK         2018  2860930        2         Hong Kong\n",
      "2                  LR         2018  2726425        3           Liberia\n",
      "3                  SG         2018  2209861        4         Singapore\n",
      "4                  GB         2018  1534067        5    United Kingdom\n",
      "5                  US         2018  1080124        6     United States\n",
      "6                  MT         2018   913455        7             Malta\n",
      "7                  MH         2018   761326        8  Marshall Islands\n",
      "8                  DE         2018   716469        9           Germany\n",
      "9                  DK         2018   681675       10           Denmark"
     ]
    }
   ],
   "source": [
    "df_country = (df_header.groupBy('vessel_country_code', 'actual_year').count()\n",
    "                        .orderBy(F.desc('count')))\n",
    "\n",
    "window_spec = Window.partitionBy(\"actual_year\").orderBy(df_country[\"count\"].desc())\n",
    "\n",
    "df_country = df_country.withColumn(\"row_num\", row_number().over(window_spec))\n",
    "\n",
    "# Filter the DataFrame to get the top 10 rows for each year\n",
    "N = 10\n",
    "df_country = df_country.filter(df_country.row_num <= N).toPandas()\n",
    "df_country[\"country_name\"] = df_country[\"vessel_country_code\"].map(country_codes)\n",
    "write_csv = df_country.to_csv(index=False)\n",
    "s3.put_object(Body=write_csv, Bucket=dir_, Key='extracted_csv/top10_country_year_trend.csv')\n",
    "df_country.head(10)\n",
    "\n"
   ]
  },
  {
   "cell_type": "code",
   "execution_count": null,
   "metadata": {},
   "outputs": [],
   "source": [
    "Top 10 Country Per Year Shipment Count"
   ]
  },
  {
   "cell_type": "markdown",
   "metadata": {},
   "source": [
    "#### Top 10 Country Per Year-Month Shipment Count"
   ]
  },
  {
   "cell_type": "code",
   "execution_count": 272,
   "metadata": {
    "execution": {
     "iopub.execute_input": "2023-06-01T17:36:59.608091Z",
     "iopub.status.busy": "2023-06-01T17:36:59.607856Z",
     "iopub.status.idle": "2023-06-01T17:37:04.927784Z",
     "shell.execute_reply": "2023-06-01T17:37:04.927068Z",
     "shell.execute_reply.started": "2023-06-01T17:36:59.608065Z"
    },
    "tags": []
   },
   "outputs": [
    {
     "data": {
      "application/vnd.jupyter.widget-view+json": {
       "model_id": "915bbe92380e4608a72a9828b592692f",
       "version_major": 2,
       "version_minor": 0
      },
      "text/plain": [
       "VBox()"
      ]
     },
     "metadata": {},
     "output_type": "display_data"
    },
    {
     "data": {
      "application/vnd.jupyter.widget-view+json": {
       "model_id": "",
       "version_major": 2,
       "version_minor": 0
      },
      "text/plain": [
       "FloatProgress(value=0.0, bar_style='info', description='Progress:', layout=Layout(height='25px', width='50%'),…"
      ]
     },
     "metadata": {},
     "output_type": "display_data"
    },
    {
     "name": "stdout",
     "output_type": "stream",
     "text": [
      "  vessel_country_code actual_year_month  ...  row_num      country_name\n",
      "0                  PA           2018-01  ...        1            Panama\n",
      "1                  HK           2018-01  ...        2         Hong Kong\n",
      "2                  LR           2018-01  ...        3           Liberia\n",
      "3                  SG           2018-01  ...        4         Singapore\n",
      "4                  GB           2018-01  ...        5    United Kingdom\n",
      "5                  US           2018-01  ...        6     United States\n",
      "6                  MT           2018-01  ...        7             Malta\n",
      "7                  PT           2018-01  ...        8          Portugal\n",
      "8                  MH           2018-01  ...        9  Marshall Islands\n",
      "9                  DK           2018-01  ...       10           Denmark\n",
      "\n",
      "[10 rows x 7 columns]"
     ]
    }
   ],
   "source": [
    "df_country = (df_header.groupBy('vessel_country_code', 'actual_year_month', \n",
    "                                'actual_year', 'actual_month').count()\n",
    "                       .orderBy(F.desc('count')))\n",
    "\n",
    "window_spec = Window.partitionBy(\"actual_year_month\").orderBy(df_country[\"count\"].desc())\n",
    "\n",
    "df_country = df_country.withColumn(\"row_num\", row_number().over(window_spec))\n",
    "\n",
    "# Filter the DataFrame to get the top 10 rows for each year\n",
    "N = 10\n",
    "df_country = df_country.filter(df_country.row_num <= N).toPandas()\n",
    "df_country[\"country_name\"] = df_country[\"vessel_country_code\"].map(country_codes)\n",
    "write_csv = df_country.to_csv(index=False)\n",
    "s3.put_object(Body=write_csv, Bucket=dir_, Key='extracted_csv/top10_country_yearmonth_trend.csv')\n",
    "df_country.head(10)\n",
    "\n"
   ]
  },
  {
   "cell_type": "code",
   "execution_count": 37,
   "metadata": {
    "execution": {
     "iopub.execute_input": "2023-06-11T04:58:58.907262Z",
     "iopub.status.busy": "2023-06-11T04:58:58.906960Z",
     "iopub.status.idle": "2023-06-11T04:58:58.965274Z",
     "shell.execute_reply": "2023-06-11T04:58:58.964636Z",
     "shell.execute_reply.started": "2023-06-11T04:58:58.907237Z"
    }
   },
   "outputs": [
    {
     "data": {
      "application/vnd.jupyter.widget-view+json": {
       "model_id": "e1c9e3cf15fd47d789c820d53b76c28e",
       "version_major": 2,
       "version_minor": 0
      },
      "text/plain": [
       "VBox()"
      ]
     },
     "metadata": {},
     "output_type": "display_data"
    },
    {
     "data": {
      "application/vnd.jupyter.widget-view+json": {
       "model_id": "",
       "version_major": 2,
       "version_minor": 0
      },
      "text/plain": [
       "FloatProgress(value=0.0, bar_style='info', description='Progress:', layout=Layout(height='25px', width='50%'),…"
      ]
     },
     "metadata": {},
     "output_type": "display_data"
    }
   ],
   "source": [
    "#### All Country Per Year-Month Shipment Count"
   ]
  },
  {
   "cell_type": "code",
   "execution_count": 55,
   "metadata": {
    "execution": {
     "iopub.execute_input": "2023-06-11T08:06:37.285985Z",
     "iopub.status.busy": "2023-06-11T08:06:37.285669Z",
     "iopub.status.idle": "2023-06-11T08:06:42.579720Z",
     "shell.execute_reply": "2023-06-11T08:06:42.578789Z",
     "shell.execute_reply.started": "2023-06-11T08:06:37.285959Z"
    },
    "tags": []
   },
   "outputs": [
    {
     "data": {
      "application/vnd.jupyter.widget-view+json": {
       "model_id": "50d56e2f84f74ad0b37e2d67e4352cb9",
       "version_major": 2,
       "version_minor": 0
      },
      "text/plain": [
       "VBox()"
      ]
     },
     "metadata": {},
     "output_type": "display_data"
    },
    {
     "data": {
      "application/vnd.jupyter.widget-view+json": {
       "model_id": "",
       "version_major": 2,
       "version_minor": 0
      },
      "text/plain": [
       "FloatProgress(value=0.0, bar_style='info', description='Progress:', layout=Layout(height='25px', width='50%'),…"
      ]
     },
     "metadata": {},
     "output_type": "display_data"
    },
    {
     "name": "stdout",
     "output_type": "stream",
     "text": [
      "  vessel_country_code actual_year_month  ...  row_num      country_name\n",
      "0                  PA           2018-01  ...        1            Panama\n",
      "1                  HK           2018-01  ...        2         Hong Kong\n",
      "2                  LR           2018-01  ...        3           Liberia\n",
      "3                  SG           2018-01  ...        4         Singapore\n",
      "4                  GB           2018-01  ...        5    United Kingdom\n",
      "5                  US           2018-01  ...        6     United States\n",
      "6                  MT           2018-01  ...        7             Malta\n",
      "7                  PT           2018-01  ...        8          Portugal\n",
      "8                  MH           2018-01  ...        9  Marshall Islands\n",
      "9                  DK           2018-01  ...       10           Denmark\n",
      "\n",
      "[10 rows x 7 columns]"
     ]
    }
   ],
   "source": [
    "df_country = (df_header.groupBy('vessel_country_code', 'actual_year_month', \n",
    "                                'actual_year', 'actual_month').count()\n",
    "                       .orderBy(F.desc('count')))\n",
    "\n",
    "window_spec = Window.partitionBy(\"actual_year_month\").orderBy(df_country[\"count\"].desc())\n",
    "\n",
    "df_country = df_country.withColumn(\"row_num\", row_number().over(window_spec))\n",
    "\n",
    "# Filter the DataFrame to get the top 10 rows for each year\n",
    "# N = 10\n",
    "# df_country = df_country.filter(df_country.row_num <= N).toPandas()\n",
    "\n",
    "df_country = df_country.toPandas()\n",
    "df_country[\"country_name\"] = df_country[\"vessel_country_code\"].map(country_codes)\n",
    "write_csv = df_country.to_csv(index=False)\n",
    "s3.put_object(Body=write_csv, Bucket=dir_, Key='extracted_csv/all_country_yearmonth_trend.csv')\n",
    "df_country.head(10)\n",
    "\n"
   ]
  },
  {
   "cell_type": "markdown",
   "metadata": {},
   "source": [
    "#### Type of Service Count"
   ]
  },
  {
   "cell_type": "code",
   "execution_count": 273,
   "metadata": {
    "execution": {
     "iopub.execute_input": "2023-06-01T17:37:04.929008Z",
     "iopub.status.busy": "2023-06-01T17:37:04.928777Z",
     "iopub.status.idle": "2023-06-01T17:37:44.338190Z",
     "shell.execute_reply": "2023-06-01T17:37:44.337278Z",
     "shell.execute_reply.started": "2023-06-01T17:37:04.928984Z"
    },
    "tags": []
   },
   "outputs": [
    {
     "data": {
      "application/vnd.jupyter.widget-view+json": {
       "model_id": "daec61bcbfff43349df63df4c12d4f07",
       "version_major": 2,
       "version_minor": 0
      },
      "text/plain": [
       "VBox()"
      ]
     },
     "metadata": {},
     "output_type": "display_data"
    },
    {
     "data": {
      "application/vnd.jupyter.widget-view+json": {
       "model_id": "",
       "version_major": 2,
       "version_minor": 0
      },
      "text/plain": [
       "FloatProgress(value=0.0, bar_style='info', description='Progress:', layout=Layout(height='25px', width='50%'),…"
      ]
     },
     "metadata": {},
     "output_type": "display_data"
    },
    {
     "name": "stdout",
     "output_type": "stream",
     "text": [
      "         type_of_service     count\n",
      "0         House to House  31634356\n",
      "1         Container Yard  21567303\n",
      "2           Pier to Pier  15043107\n",
      "3          Pier to House   3097522\n",
      "4      Container Station   2218819\n",
      "5          House to Pier    951812\n",
      "6             Break Bulk    847594\n",
      "7      Non Containerized    116907\n",
      "8       Roll on Roll Off     11396\n",
      "9  Headload or Devanning      2861"
     ]
    }
   ],
   "source": [
    "df_head_cont = (df_header.join(df_container, on='identifier', how='inner'))\n",
    "\n",
    "df_service = (df_head_cont.where(F.col('type_of_service').isNotNull())\n",
    "                          .groupBy('type_of_service').count()\n",
    "                          .orderBy(F.desc('count')).toPandas())\n",
    "\n",
    "write_csv = df_service.to_csv(index=False)\n",
    "s3.put_object(Body=write_csv, Bucket=dir_, Key='extracted_csv/type_of_service_count.csv')\n",
    "df_service.head(10)\n"
   ]
  },
  {
   "cell_type": "markdown",
   "metadata": {},
   "source": [
    "#### Top 10 Type of Service Year Count "
   ]
  },
  {
   "cell_type": "code",
   "execution_count": 275,
   "metadata": {
    "execution": {
     "iopub.execute_input": "2023-06-01T17:38:52.404011Z",
     "iopub.status.busy": "2023-06-01T17:38:52.403548Z",
     "iopub.status.idle": "2023-06-01T17:39:31.852482Z",
     "shell.execute_reply": "2023-06-01T17:39:31.851758Z",
     "shell.execute_reply.started": "2023-06-01T17:38:52.403967Z"
    },
    "tags": []
   },
   "outputs": [
    {
     "data": {
      "application/vnd.jupyter.widget-view+json": {
       "model_id": "b21f043f7d184c66897e96bcf2d1cfe2",
       "version_major": 2,
       "version_minor": 0
      },
      "text/plain": [
       "VBox()"
      ]
     },
     "metadata": {},
     "output_type": "display_data"
    },
    {
     "data": {
      "application/vnd.jupyter.widget-view+json": {
       "model_id": "",
       "version_major": 2,
       "version_minor": 0
      },
      "text/plain": [
       "FloatProgress(value=0.0, bar_style='info', description='Progress:', layout=Layout(height='25px', width='50%'),…"
      ]
     },
     "metadata": {},
     "output_type": "display_data"
    },
    {
     "name": "stdout",
     "output_type": "stream",
     "text": [
      "         type_of_service  actual_year     count  row_num\n",
      "0         House to House         2018  12183638        1\n",
      "1         Container Yard         2018   8289124        2\n",
      "2           Pier to Pier         2018   5184091        3\n",
      "3          Pier to House         2018   1129427        4\n",
      "4      Container Station         2018    620207        5\n",
      "5          House to Pier         2018    363368        6\n",
      "6             Break Bulk         2018    326929        7\n",
      "7      Non Containerized         2018     44446        8\n",
      "8       Roll on Roll Off         2018      4358        9\n",
      "9  Headload or Devanning         2018      1126       10"
     ]
    }
   ],
   "source": [
    "df_service = (df_head_cont.where(F.col('type_of_service').isNotNull())\n",
    "                          .groupBy('type_of_service', 'actual_year')\n",
    "                          .count().orderBy(F.desc('count')))\n",
    "\n",
    "window_spec = Window.partitionBy(\"actual_year\").orderBy(df_service[\"count\"].desc())\n",
    "\n",
    "df_service = df_service.withColumn(\"row_num\", row_number().over(window_spec))\n",
    "\n",
    "# Filter the DataFrame to get the top 10 rows for each year\n",
    "N = 10\n",
    "df_service = df_service.filter(df_service.row_num <= N).toPandas()\n",
    "\n",
    "write_csv = df_service.to_csv(index=False)\n",
    "s3.put_object(Body=write_csv, Bucket=dir_, Key='extracted_csv/service_year_trend.csv')\n",
    "df_service.head(10)\n"
   ]
  },
  {
   "cell_type": "markdown",
   "metadata": {},
   "source": [
    "#### Top 10 Type of Service Year-Month Count "
   ]
  },
  {
   "cell_type": "code",
   "execution_count": 276,
   "metadata": {
    "execution": {
     "iopub.execute_input": "2023-06-01T17:39:31.853978Z",
     "iopub.status.busy": "2023-06-01T17:39:31.853701Z",
     "iopub.status.idle": "2023-06-01T17:40:15.272413Z",
     "shell.execute_reply": "2023-06-01T17:40:15.271551Z",
     "shell.execute_reply.started": "2023-06-01T17:39:31.853951Z"
    },
    "tags": []
   },
   "outputs": [
    {
     "data": {
      "application/vnd.jupyter.widget-view+json": {
       "model_id": "ed5d621d164d4008a80413acba51fb92",
       "version_major": 2,
       "version_minor": 0
      },
      "text/plain": [
       "VBox()"
      ]
     },
     "metadata": {},
     "output_type": "display_data"
    },
    {
     "data": {
      "application/vnd.jupyter.widget-view+json": {
       "model_id": "",
       "version_major": 2,
       "version_minor": 0
      },
      "text/plain": [
       "FloatProgress(value=0.0, bar_style='info', description='Progress:', layout=Layout(height='25px', width='50%'),…"
      ]
     },
     "metadata": {},
     "output_type": "display_data"
    },
    {
     "name": "stdout",
     "output_type": "stream",
     "text": [
      "         type_of_service actual_year_month  ...   count  row_num\n",
      "0         House to House           2018-01  ...  929014        1\n",
      "1         Container Yard           2018-01  ...  563851        2\n",
      "2           Pier to Pier           2018-01  ...  378553        3\n",
      "3          Pier to House           2018-01  ...   75274        4\n",
      "4      Container Station           2018-01  ...   42408        5\n",
      "5             Break Bulk           2018-01  ...   27703        6\n",
      "6          House to Pier           2018-01  ...   23635        7\n",
      "7      Non Containerized           2018-01  ...    2891        8\n",
      "8       Roll on Roll Off           2018-01  ...     211        9\n",
      "9  Headload or Devanning           2018-01  ...     116       10\n",
      "\n",
      "[10 rows x 6 columns]"
     ]
    }
   ],
   "source": [
    "df_service = (df_head_cont.where(F.col('type_of_service').isNotNull())\n",
    "                          .groupBy('type_of_service', 'actual_year_month', \n",
    "                                'actual_year', 'actual_month')\n",
    "                          .count().orderBy(F.desc('count')))\n",
    "\n",
    "window_spec = Window.partitionBy(\"actual_year_month\").orderBy(df_service[\"count\"].desc())\n",
    "\n",
    "df_service = df_service.withColumn(\"row_num\", row_number().over(window_spec))\n",
    "\n",
    "# Filter the DataFrame to get the top 10 rows for each year\n",
    "N = 10\n",
    "df_service = df_service.filter(df_service.row_num <= N).toPandas()\n",
    "\n",
    "write_csv = df_service.to_csv(index=False)\n",
    "s3.put_object(Body=write_csv, Bucket=dir_, Key='extracted_csv/service_yearmonth_trend.csv')\n",
    "df_service.head(10)\n"
   ]
  },
  {
   "cell_type": "markdown",
   "metadata": {},
   "source": [
    "#### Top 10 Type of Service Country Count "
   ]
  },
  {
   "cell_type": "code",
   "execution_count": 277,
   "metadata": {
    "execution": {
     "iopub.execute_input": "2023-06-01T17:40:15.274986Z",
     "iopub.status.busy": "2023-06-01T17:40:15.274624Z",
     "iopub.status.idle": "2023-06-01T17:40:54.695975Z",
     "shell.execute_reply": "2023-06-01T17:40:54.695120Z",
     "shell.execute_reply.started": "2023-06-01T17:40:15.274948Z"
    },
    "tags": []
   },
   "outputs": [
    {
     "data": {
      "application/vnd.jupyter.widget-view+json": {
       "model_id": "a4c2d767604f4c6dac6824776b852c80",
       "version_major": 2,
       "version_minor": 0
      },
      "text/plain": [
       "VBox()"
      ]
     },
     "metadata": {},
     "output_type": "display_data"
    },
    {
     "data": {
      "application/vnd.jupyter.widget-view+json": {
       "model_id": "",
       "version_major": 2,
       "version_minor": 0
      },
      "text/plain": [
       "FloatProgress(value=0.0, bar_style='info', description='Progress:', layout=Layout(height='25px', width='50%'),…"
      ]
     },
     "metadata": {},
     "output_type": "display_data"
    },
    {
     "name": "stdout",
     "output_type": "stream",
     "text": [
      "      type_of_service vessel_country_code   count  row_num      country_name\n",
      "0          Break Bulk                  PA  144811        1            Panama\n",
      "1          Break Bulk                  HK  126783        2         Hong Kong\n",
      "2          Break Bulk                  LR  110037        3           Liberia\n",
      "3          Break Bulk                  SG   75425        4         Singapore\n",
      "4          Break Bulk                  GB   61357        5    United Kingdom\n",
      "5          Break Bulk                  DE   53964        6           Germany\n",
      "6          Break Bulk                  US   42294        7     United States\n",
      "7          Break Bulk                  MT   38383        8             Malta\n",
      "8          Break Bulk                  PT   29115        9          Portugal\n",
      "9          Break Bulk                  MH   28531       10  Marshall Islands\n",
      "10  Container Station                  LR  365572        1           Liberia\n",
      "11  Container Station                  HK  278816        2         Hong Kong\n",
      "12  Container Station                  PA  265133        3            Panama\n",
      "13  Container Station                  GB  233076        4    United Kingdom\n",
      "14  Container Station                  SG  207578        5         Singapore\n",
      "15  Container Station                  US  156157        6     United States\n",
      "16  Container Station                  MT  100248        7             Malta\n",
      "17  Container Station                  DK   95691        8           Denmark\n",
      "18  Container Station                  CN   77952        9             China\n",
      "19  Container Station                  MH   73512       10  Marshall Islands"
     ]
    }
   ],
   "source": [
    "df_ser_count = (df_head_cont.where(F.col('type_of_service').isNotNull())\n",
    "                          .groupBy('type_of_service', 'vessel_country_code')\n",
    "                          .count().orderBy(F.desc('count')))\n",
    "\n",
    "window_spec = Window.partitionBy(\"type_of_service\").orderBy(df_ser_count[\"count\"].desc())\n",
    "\n",
    "df_ser_count = df_ser_count.withColumn(\"row_num\", row_number().over(window_spec))\n",
    "\n",
    "# Filter the DataFrame to get the top 10 rows for each year\n",
    "N = 10\n",
    "df_ser_count = df_ser_count.filter(df_ser_count.row_num <= N).toPandas()\n",
    "df_ser_count[\"country_name\"] = df_ser_count[\"vessel_country_code\"].map(country_codes)\n",
    "write_csv = df_ser_count.to_csv(index=False)\n",
    "s3.put_object(Body=write_csv, Bucket=dir_, Key='extracted_csv/top10_country_count_per_service.csv')\n",
    "df_ser_count.head(20)\n"
   ]
  },
  {
   "cell_type": "markdown",
   "metadata": {},
   "source": [
    "#### Top 10 Type of Service Country Year Count "
   ]
  },
  {
   "cell_type": "code",
   "execution_count": 278,
   "metadata": {
    "execution": {
     "iopub.execute_input": "2023-06-01T17:40:54.698233Z",
     "iopub.status.busy": "2023-06-01T17:40:54.697858Z",
     "iopub.status.idle": "2023-06-01T17:41:36.113923Z",
     "shell.execute_reply": "2023-06-01T17:41:36.113013Z",
     "shell.execute_reply.started": "2023-06-01T17:40:54.698194Z"
    },
    "tags": []
   },
   "outputs": [
    {
     "data": {
      "application/vnd.jupyter.widget-view+json": {
       "model_id": "61135c84d77b4d27932a56f35958ab18",
       "version_major": 2,
       "version_minor": 0
      },
      "text/plain": [
       "VBox()"
      ]
     },
     "metadata": {},
     "output_type": "display_data"
    },
    {
     "data": {
      "application/vnd.jupyter.widget-view+json": {
       "model_id": "",
       "version_major": 2,
       "version_minor": 0
      },
      "text/plain": [
       "FloatProgress(value=0.0, bar_style='info', description='Progress:', layout=Layout(height='25px', width='50%'),…"
      ]
     },
     "metadata": {},
     "output_type": "display_data"
    },
    {
     "name": "stdout",
     "output_type": "stream",
     "text": [
      "   type_of_service  actual_year  ... row_num      country_name\n",
      "0       Break Bulk         2018  ...       1            Panama\n",
      "1       Break Bulk         2018  ...       2         Hong Kong\n",
      "2       Break Bulk         2018  ...       3           Liberia\n",
      "3       Break Bulk         2018  ...       4    United Kingdom\n",
      "4       Break Bulk         2018  ...       5         Singapore\n",
      "5       Break Bulk         2018  ...       6             Malta\n",
      "6       Break Bulk         2018  ...       7          Portugal\n",
      "7       Break Bulk         2018  ...       8  Marshall Islands\n",
      "8       Break Bulk         2018  ...       9           Germany\n",
      "9       Break Bulk         2018  ...      10     United States\n",
      "10      Break Bulk         2019  ...       1            Panama\n",
      "11      Break Bulk         2019  ...       2           Liberia\n",
      "12      Break Bulk         2019  ...       3         Hong Kong\n",
      "13      Break Bulk         2019  ...       4         Singapore\n",
      "14      Break Bulk         2019  ...       5           Germany\n",
      "15      Break Bulk         2019  ...       6     United States\n",
      "16      Break Bulk         2019  ...       7    United Kingdom\n",
      "17      Break Bulk         2019  ...       8            France\n",
      "18      Break Bulk         2019  ...       9             Malta\n",
      "19      Break Bulk         2019  ...      10          Portugal\n",
      "\n",
      "[20 rows x 6 columns]"
     ]
    }
   ],
   "source": [
    "df_ser_count = (df_head_cont.where(F.col('type_of_service').isNotNull())\n",
    "                          .groupBy('type_of_service', 'actual_year', 'vessel_country_code')\n",
    "                          .count().orderBy(F.desc('count')))\n",
    "\n",
    "window_spec = Window.partitionBy([\"type_of_service\",\"actual_year\"]).orderBy(df_ser_count[\"count\"].desc())\n",
    "\n",
    "df_ser_count = df_ser_count.withColumn(\"row_num\", row_number().over(window_spec))\n",
    "\n",
    "# Filter the DataFrame to get the top 10 rows for each year\n",
    "N = 10\n",
    "df_ser_count = df_ser_count.filter(df_ser_count.row_num <= N).toPandas()\n",
    "df_ser_count[\"country_name\"] = df_ser_count[\"vessel_country_code\"].map(country_codes)\n",
    "write_csv = df_ser_count.to_csv(index=False)\n",
    "s3.put_object(Body=write_csv, Bucket=dir_, Key='extracted_csv/top10_trend_year_service_country.csv')\n",
    "df_ser_count.head(20)\n"
   ]
  },
  {
   "cell_type": "markdown",
   "metadata": {},
   "source": [
    "#### Top 10 Type of Service Country Year-Month Count "
   ]
  },
  {
   "cell_type": "code",
   "execution_count": 279,
   "metadata": {
    "execution": {
     "iopub.execute_input": "2023-06-01T17:41:36.115189Z",
     "iopub.status.busy": "2023-06-01T17:41:36.114948Z",
     "iopub.status.idle": "2023-06-01T17:42:19.527195Z",
     "shell.execute_reply": "2023-06-01T17:42:19.526374Z",
     "shell.execute_reply.started": "2023-06-01T17:41:36.115162Z"
    },
    "tags": []
   },
   "outputs": [
    {
     "data": {
      "application/vnd.jupyter.widget-view+json": {
       "model_id": "969aebd12f3b4fb18a34f589c4d5d4c6",
       "version_major": 2,
       "version_minor": 0
      },
      "text/plain": [
       "VBox()"
      ]
     },
     "metadata": {},
     "output_type": "display_data"
    },
    {
     "data": {
      "application/vnd.jupyter.widget-view+json": {
       "model_id": "",
       "version_major": 2,
       "version_minor": 0
      },
      "text/plain": [
       "FloatProgress(value=0.0, bar_style='info', description='Progress:', layout=Layout(height='25px', width='50%'),…"
      ]
     },
     "metadata": {},
     "output_type": "display_data"
    },
    {
     "name": "stdout",
     "output_type": "stream",
     "text": [
      "   type_of_service  actual_year  actual_year  ... count row_num      country_name\n",
      "0       Break Bulk         2018         2018  ...  4924       1         Hong Kong\n",
      "1       Break Bulk         2018         2018  ...  4200       2           Liberia\n",
      "2       Break Bulk         2018         2018  ...  4010       3            Panama\n",
      "3       Break Bulk         2018         2018  ...  3819       4    United Kingdom\n",
      "4       Break Bulk         2018         2018  ...  2469       5         Singapore\n",
      "5       Break Bulk         2018         2018  ...  1472       6  Marshall Islands\n",
      "6       Break Bulk         2018         2018  ...  1161       7     United States\n",
      "7       Break Bulk         2018         2018  ...  1096       8             Malta\n",
      "8       Break Bulk         2018         2018  ...   922       9          Portugal\n",
      "9       Break Bulk         2018         2018  ...   545      10           Denmark\n",
      "10      Break Bulk         2018         2018  ...  4640       1            Panama\n",
      "11      Break Bulk         2018         2018  ...  4160       2         Singapore\n",
      "12      Break Bulk         2018         2018  ...  4029       3           Liberia\n",
      "13      Break Bulk         2018         2018  ...  2933       4         Hong Kong\n",
      "14      Break Bulk         2018         2018  ...  2658       5    United Kingdom\n",
      "15      Break Bulk         2018         2018  ...  1053       6     United States\n",
      "16      Break Bulk         2018         2018  ...   955       7           Denmark\n",
      "17      Break Bulk         2018         2018  ...   937       8  Marshall Islands\n",
      "18      Break Bulk         2018         2018  ...   772       9            Greece\n",
      "19      Break Bulk         2018         2018  ...   751      10          Portugal\n",
      "\n",
      "[20 rows x 8 columns]"
     ]
    }
   ],
   "source": [
    "df_ser_count = (df_head_cont.where(F.col('type_of_service').isNotNull())\n",
    "                          .groupBy('type_of_service', 'actual_year', 'actual_year', \n",
    "                                   'actual_year_month', 'vessel_country_code')\n",
    "                          .count().orderBy(F.desc('count')))\n",
    "\n",
    "window_spec = Window.partitionBy([\"type_of_service\",\"actual_year_month\"]).orderBy(df_ser_count[\"count\"].desc())\n",
    "\n",
    "df_ser_count = df_ser_count.withColumn(\"row_num\", row_number().over(window_spec))\n",
    "\n",
    "# Filter the DataFrame to get the top 10 rows for each year\n",
    "N = 10\n",
    "df_ser_count = df_ser_count.filter(df_ser_count.row_num <= N).toPandas()\n",
    "df_ser_count[\"country_name\"] = df_ser_count[\"vessel_country_code\"].map(country_codes)\n",
    "\n",
    "write_csv = df_ser_count.to_csv(index=False)\n",
    "s3.put_object(Body=write_csv, Bucket=dir_, Key='extracted_csv/top10_trend_yearmonth_service_country.csv')\n",
    "df_ser_count.head(20)\n"
   ]
  },
  {
   "cell_type": "code",
   "execution_count": 54,
   "metadata": {
    "execution": {
     "iopub.execute_input": "2023-06-11T08:01:30.736831Z",
     "iopub.status.busy": "2023-06-11T08:01:30.736563Z",
     "iopub.status.idle": "2023-06-11T08:01:30.844986Z",
     "shell.execute_reply": "2023-06-11T08:01:30.842854Z",
     "shell.execute_reply.started": "2023-06-11T08:01:30.736805Z"
    },
    "tags": []
   },
   "outputs": [
    {
     "data": {
      "application/vnd.jupyter.widget-view+json": {
       "model_id": "61feac57176a4b1aa81630fdc8b6b5a7",
       "version_major": 2,
       "version_minor": 0
      },
      "text/plain": [
       "VBox()"
      ]
     },
     "metadata": {},
     "output_type": "display_data"
    },
    {
     "data": {
      "application/vnd.jupyter.widget-view+json": {
       "model_id": "",
       "version_major": 2,
       "version_minor": 0
      },
      "text/plain": [
       "FloatProgress(value=0.0, bar_style='info', description='Progress:', layout=Layout(height='25px', width='50%'),…"
      ]
     },
     "metadata": {},
     "output_type": "display_data"
    }
   ],
   "source": [
    "df_head_cont = None\n",
    "df_head_ship = (df_header.join(df_shipper, on='identifier', how='inner'))"
   ]
  },
  {
   "cell_type": "markdown",
   "metadata": {},
   "source": [
    "#### Top 1000 Shipper Count"
   ]
  },
  {
   "cell_type": "code",
   "execution_count": 282,
   "metadata": {
    "execution": {
     "iopub.execute_input": "2023-06-01T17:43:13.238030Z",
     "iopub.status.busy": "2023-06-01T17:43:13.237765Z",
     "iopub.status.idle": "2023-06-01T17:44:22.806796Z",
     "shell.execute_reply": "2023-06-01T17:44:22.806068Z",
     "shell.execute_reply.started": "2023-06-01T17:43:13.238003Z"
    },
    "tags": []
   },
   "outputs": [
    {
     "data": {
      "application/vnd.jupyter.widget-view+json": {
       "model_id": "c18a58ddf7c64e849ae330a19e75baf6",
       "version_major": 2,
       "version_minor": 0
      },
      "text/plain": [
       "VBox()"
      ]
     },
     "metadata": {},
     "output_type": "display_data"
    },
    {
     "data": {
      "application/vnd.jupyter.widget-view+json": {
       "model_id": "",
       "version_major": 2,
       "version_minor": 0
      },
      "text/plain": [
       "FloatProgress(value=0.0, bar_style='info', description='Progress:', layout=Layout(height='25px', width='50%'),…"
      ]
     },
     "metadata": {},
     "output_type": "display_data"
    },
    {
     "name": "stdout",
     "output_type": "stream",
     "text": [
      "                     shipper_party_name  ...  country_code\n",
      "0    ORIENT EXPRESS CONTAINER CO., LTD.  ...          None\n",
      "1                      WANG ZHANG JIANG  ...          None\n",
      "2          HONOUR LANE SHIPPING LIMITED  ...          None\n",
      "3   BEIJING KANG JIE KONG INTERNATIONAL  ...          None\n",
      "4                HECNY SHIPPING LIMITED  ...            21\n",
      "5       DE WELL CONTAINER SHIPPING INC.  ...          None\n",
      "6        TOPOCEAN CONSOLIDATION SERVICE  ...            26\n",
      "7       FOREVER LOGISTICS SHENZHEN CO L  ...          None\n",
      "8             PANTOS LOGISTICS CO.,LTD.  ...          None\n",
      "9           FEDEX INTERNATIONAL FREIGHT  ...          None\n",
      "10  UNION DE BANANEROS ECUATORIANOS S.A  ...          None\n",
      "11            HONOUR LANE SHIPPING LTD.  ...          None\n",
      "12  SCHAEFFLER TECHNOLOGIES AG & CO. KG  ...          None\n",
      "13        INTERGLOBO NORTH AMERICA INC.  ...          None\n",
      "14         SAMSUNG ELECTRONICS CO., LTD  ...          None\n",
      "15   U.S.UNITED LOGISTICS (NINGBO) INC.  ...          None\n",
      "16    SHENZHEN GUANGCHI LOGISTICS CO LT  ...          None\n",
      "17                 RS LOGISTICS LIMITED  ...          None\n",
      "18  BEIJING KANG-JIE-KONG INTERNATIONAL  ...          None\n",
      "19         KUEHNE + NAGEL (AG & CO.) KG  ...            05\n",
      "\n",
      "[20 rows x 7 columns]"
     ]
    }
   ],
   "source": [
    "df_shippers = (df_head_ship.groupby('shipper_party_name', )\n",
    "                           .agg(F.count(\"*\").alias('count'), \n",
    "                                F.first('shipper_party_address_1').alias('address1'),\n",
    "                                F.first('shipper_party_address_2').alias('address2'),\n",
    "                                F.first('shipper_party_address_3').alias('address3'),\n",
    "                                F.first('shipper_party_address_4').alias('address4'),\n",
    "                                F.first('country_code').alias('country_code')\n",
    "                                )\n",
    "                           .orderBy(F.desc('count'))\n",
    "                           .limit(1000).toPandas())\n",
    "\n",
    "write_csv = df_shippers.to_csv(index=False)\n",
    "s3.put_object(Body=write_csv, Bucket=dir_, Key='extracted_csv/top1000_shipper_country.csv')\n",
    "df_shippers.head(20)\n"
   ]
  },
  {
   "cell_type": "code",
   "execution_count": 283,
   "metadata": {
    "execution": {
     "iopub.execute_input": "2023-06-01T17:44:22.809348Z",
     "iopub.status.busy": "2023-06-01T17:44:22.809009Z",
     "iopub.status.idle": "2023-06-01T17:44:22.869227Z",
     "shell.execute_reply": "2023-06-01T17:44:22.868374Z",
     "shell.execute_reply.started": "2023-06-01T17:44:22.809312Z"
    },
    "tags": []
   },
   "outputs": [
    {
     "data": {
      "application/vnd.jupyter.widget-view+json": {
       "model_id": "ea1b27679c384b978bb4ed5fdec3ddc3",
       "version_major": 2,
       "version_minor": 0
      },
      "text/plain": [
       "VBox()"
      ]
     },
     "metadata": {},
     "output_type": "display_data"
    },
    {
     "data": {
      "application/vnd.jupyter.widget-view+json": {
       "model_id": "",
       "version_major": 2,
       "version_minor": 0
      },
      "text/plain": [
       "FloatProgress(value=0.0, bar_style='info', description='Progress:', layout=Layout(height='25px', width='50%'),…"
      ]
     },
     "metadata": {},
     "output_type": "display_data"
    }
   ],
   "source": [
    "#df_head_ship = None\n"
   ]
  },
  {
   "cell_type": "code",
   "execution_count": 284,
   "metadata": {
    "execution": {
     "iopub.execute_input": "2023-06-01T17:44:22.871143Z",
     "iopub.status.busy": "2023-06-01T17:44:22.870783Z",
     "iopub.status.idle": "2023-06-01T17:44:28.172127Z",
     "shell.execute_reply": "2023-06-01T17:44:28.171318Z",
     "shell.execute_reply.started": "2023-06-01T17:44:22.871103Z"
    },
    "tags": []
   },
   "outputs": [
    {
     "data": {
      "application/vnd.jupyter.widget-view+json": {
       "model_id": "a5d772bc5b4a48ee9cf11c0bd347ff91",
       "version_major": 2,
       "version_minor": 0
      },
      "text/plain": [
       "VBox()"
      ]
     },
     "metadata": {},
     "output_type": "display_data"
    },
    {
     "data": {
      "application/vnd.jupyter.widget-view+json": {
       "model_id": "",
       "version_major": 2,
       "version_minor": 0
      },
      "text/plain": [
       "FloatProgress(value=0.0, bar_style='info', description='Progress:', layout=Layout(height='25px', width='50%'),…"
      ]
     },
     "metadata": {},
     "output_type": "display_data"
    },
    {
     "name": "stdout",
     "output_type": "stream",
     "text": [
      "   avg(delay)\n",
      "0    1.889987"
     ]
    }
   ],
   "source": [
    "df_delay = df_header.select(F.mean('delay')).toPandas()\n",
    "\n",
    "write_csv = df_delay.to_csv(index=False)\n",
    "s3.put_object(Body=write_csv, Bucket=dir_, Key='extracted_csv/mean_delay.csv')\n",
    "df_delay.head(20)\n"
   ]
  },
  {
   "cell_type": "markdown",
   "metadata": {},
   "source": [
    "#### On Schedule Delay Early Count"
   ]
  },
  {
   "cell_type": "code",
   "execution_count": 26,
   "metadata": {
    "execution": {
     "iopub.execute_input": "2023-06-11T04:35:49.916938Z",
     "iopub.status.busy": "2023-06-11T04:35:49.916627Z",
     "iopub.status.idle": "2023-06-11T04:35:53.191051Z",
     "shell.execute_reply": "2023-06-11T04:35:53.190118Z",
     "shell.execute_reply.started": "2023-06-11T04:35:49.916913Z"
    }
   },
   "outputs": [
    {
     "data": {
      "application/vnd.jupyter.widget-view+json": {
       "model_id": "26ab90276dd349aca162c9ba26486819",
       "version_major": 2,
       "version_minor": 0
      },
      "text/plain": [
       "VBox()"
      ]
     },
     "metadata": {},
     "output_type": "display_data"
    },
    {
     "data": {
      "application/vnd.jupyter.widget-view+json": {
       "model_id": "",
       "version_major": 2,
       "version_minor": 0
      },
      "text/plain": [
       "FloatProgress(value=0.0, bar_style='info', description='Progress:', layout=Layout(height='25px', width='50%'),…"
      ]
     },
     "metadata": {},
     "output_type": "display_data"
    },
    {
     "name": "stdout",
     "output_type": "stream",
     "text": [
      "    is_delayed     count          %\n",
      "0  on schedule  19096748  35.466219\n",
      "1      delayed  30301635  56.275782\n",
      "2        early   4446511   8.257999"
     ]
    }
   ],
   "source": [
    "row_cnt = df_header.count()\n",
    "df_delay = (df_header.groupBy('is_delayed').count()\n",
    "                     .select('is_delayed',  'count', \n",
    "                            (F.col('count')/F.lit(row_cnt) \n",
    "                            * 100).alias('%') ).toPandas())\n",
    "\n",
    "write_csv = df_delay.to_csv(index=False)\n",
    "s3.put_object(Body=write_csv, Bucket=dir_, Key='extracted_csv/delay_distri.csv')\n",
    "df_delay.head(20)"
   ]
  },
  {
   "cell_type": "markdown",
   "metadata": {},
   "source": [
    "#### On Schedule Delay Early Year Count"
   ]
  },
  {
   "cell_type": "code",
   "execution_count": 33,
   "metadata": {
    "execution": {
     "iopub.execute_input": "2023-06-11T04:38:04.031743Z",
     "iopub.status.busy": "2023-06-11T04:38:04.031402Z",
     "iopub.status.idle": "2023-06-11T04:38:27.388034Z",
     "shell.execute_reply": "2023-06-11T04:38:27.386130Z",
     "shell.execute_reply.started": "2023-06-11T04:38:04.031714Z"
    },
    "tags": []
   },
   "outputs": [
    {
     "data": {
      "application/vnd.jupyter.widget-view+json": {
       "model_id": "9c2962f3102e45c8903b9e0b54231352",
       "version_major": 2,
       "version_minor": 0
      },
      "text/plain": [
       "VBox()"
      ]
     },
     "metadata": {},
     "output_type": "display_data"
    },
    {
     "data": {
      "application/vnd.jupyter.widget-view+json": {
       "model_id": "",
       "version_major": 2,
       "version_minor": 0
      },
      "text/plain": [
       "FloatProgress(value=0.0, bar_style='info', description='Progress:', layout=Layout(height='25px', width='50%'),…"
      ]
     },
     "metadata": {},
     "output_type": "display_data"
    },
    {
     "name": "stdout",
     "output_type": "stream",
     "text": [
      "    is_delayed  estimated_year     count    % Total  % Year-Total\n",
      "0        early            2018   1549380   2.877487      7.668285\n",
      "1      delayed            2018  12122935  22.514549     59.999560\n",
      "2  on schedule            2018   6532725  12.132487     32.332156\n",
      "3        early            2020   1439603   2.673611      9.792823\n",
      "4      delayed            2020   8134259  15.106834     55.332867\n",
      "5  on schedule            2020   5126730   9.521293     34.874310\n",
      "6        early            2019   1457528   2.706901      7.695801\n",
      "7  on schedule            2019   7437293  13.812439     39.269181\n",
      "8      delayed            2019  10044441  18.654398     53.035018"
     ]
    }
   ],
   "source": [
    "row_cnt = df_header.count()\n",
    "\n",
    "window_spec = Window.partitionBy(\"estimated_year\")\n",
    "\n",
    "df_delay = (df_header.withColumn(\"row_count\", count(\"*\").over(window_spec))\n",
    "                     .groupBy('is_delayed', 'estimated_year')\n",
    "                     .agg(F.count('*').alias('count'), F.first('row_count').alias('row_count'))\n",
    "                     .select('is_delayed', 'estimated_year', 'count',\n",
    "                            (F.col('count')/F.lit(row_cnt)*100).alias('% Total'),\n",
    "                            (F.col('count')/F.col('row_count')*100).alias('% Year-Total')).toPandas())\n",
    "\n",
    "write_csv = df_delay.to_csv(index=False)\n",
    "s3.put_object(Body=write_csv, Bucket=dir_, Key='extracted_csv/delay_distri_yearly.csv')\n",
    "df_delay.head(20)"
   ]
  },
  {
   "cell_type": "markdown",
   "metadata": {
    "tags": []
   },
   "source": [
    "#### Delay Year-Month Count"
   ]
  },
  {
   "cell_type": "code",
   "execution_count": 44,
   "metadata": {
    "execution": {
     "iopub.execute_input": "2023-06-11T05:06:24.775845Z",
     "iopub.status.busy": "2023-06-11T05:06:24.775491Z",
     "iopub.status.idle": "2023-06-11T05:06:42.099134Z",
     "shell.execute_reply": "2023-06-11T05:06:42.098294Z",
     "shell.execute_reply.started": "2023-06-11T05:06:24.775816Z"
    },
    "tags": []
   },
   "outputs": [
    {
     "data": {
      "application/vnd.jupyter.widget-view+json": {
       "model_id": "2aefccd4b0cf43ecb55d3061e2c25739",
       "version_major": 2,
       "version_minor": 0
      },
      "text/plain": [
       "VBox()"
      ]
     },
     "metadata": {},
     "output_type": "display_data"
    },
    {
     "data": {
      "application/vnd.jupyter.widget-view+json": {
       "model_id": "",
       "version_major": 2,
       "version_minor": 0
      },
      "text/plain": [
       "FloatProgress(value=0.0, bar_style='info', description='Progress:', layout=Layout(height='25px', width='50%'),…"
      ]
     },
     "metadata": {},
     "output_type": "display_data"
    },
    {
     "name": "stdout",
     "output_type": "stream",
     "text": [
      "   is_delayed estimated_year_month    count   % Total  % Year-Total\n",
      "0     delayed              2018-04   883468  2.915579      7.287575\n",
      "1     delayed              2018-08   922820  3.045446      7.612183\n",
      "2     delayed              2018-11  1054841  3.481136      8.701201\n",
      "3     delayed              2018-09  1076607  3.552967      8.880745\n",
      "4     delayed              2018-01  1070203  3.531833      8.827920\n",
      "5     delayed              2018-10  1207982  3.986524      9.964435\n",
      "6     delayed              2018-05   961981  3.174683      7.935215\n",
      "7     delayed              2018-06   855179  2.822221      7.054224\n",
      "8     delayed              2018-03   906349  2.991089      7.476317\n",
      "9     delayed              2018-07   906969  2.993136      7.481431\n",
      "10    delayed              2018-02  1001184  3.304059      8.258594\n",
      "11    delayed              2018-12  1275352  4.208855     10.520159\n",
      "12    delayed              2019-10   766682  2.530167      7.632899\n",
      "13    delayed              2019-08   755466  2.493153      7.521235\n",
      "14    delayed              2019-05   772202  2.548384      7.687854\n",
      "15    delayed              2019-03   821995  2.712708      8.183581\n",
      "16    delayed              2019-09   809683  2.672077      8.061006\n",
      "17    delayed              2019-06   725018  2.392670      7.218102\n",
      "18    delayed              2019-11   695241  2.294401      6.921649\n",
      "19    delayed              2019-07   792134  2.614163      7.886293\n",
      "20    delayed              2019-12   826774  2.728480      8.231160\n",
      "21    delayed              2019-04   863660  2.850209      8.598388\n",
      "22    delayed              2019-01  1185443  3.912142     11.801981\n",
      "23    delayed              2019-02  1030143  3.399628     10.255852\n",
      "24    delayed              2020-08  1287638  4.249401     15.829813\n",
      "25    delayed              2020-02   868417  2.865908     10.676043\n",
      "26    delayed              2020-06   745268  2.459498      9.162088\n",
      "27    delayed              2020-01   981563  3.239307     12.067024\n",
      "28    delayed              2020-09  1039328  3.429940     12.777169\n",
      "29    delayed              2020-07  1017451  3.357743     12.508220"
     ]
    }
   ],
   "source": [
    "row_cnt = df_header.where(F.col('is_delayed') == 'delayed').count()\n",
    "window_spec = Window.partitionBy(\"estimated_year\")\n",
    "df_delay = (df_header.where(F.col('is_delayed') == 'delayed')\n",
    "                     .withColumn(\"row_count\", count(\"*\").over(window_spec))\n",
    "                     .groupBy('is_delayed', 'estimated_year_month')\n",
    "                     .agg(F.count('*').alias('count'), F.first('row_count').alias('row_count'))\n",
    "                     .select('is_delayed', 'estimated_year_month', 'count',\n",
    "                            (F.col('count')/F.lit(row_cnt)*100).alias('% Total'),\n",
    "                            (F.col('count')/F.col('row_count')*100).alias('% Year-Total')).toPandas())\n",
    "\n",
    "write_csv = df_delay.to_csv(index=False)\n",
    "s3.put_object(Body=write_csv, Bucket=dir_, Key='extracted_csv/delayed_only_distri_year_month.csv')\n",
    "df_delay.head(30)"
   ]
  },
  {
   "cell_type": "markdown",
   "metadata": {
    "execution": {
     "iopub.execute_input": "2023-06-11T04:25:22.749052Z",
     "iopub.status.busy": "2023-06-11T04:25:22.748756Z",
     "iopub.status.idle": "2023-06-11T04:25:22.795590Z",
     "shell.execute_reply": "2023-06-11T04:25:22.794863Z",
     "shell.execute_reply.started": "2023-06-11T04:25:22.749026Z"
    }
   },
   "source": [
    "#### Delay Early Year-Month Count"
   ]
  },
  {
   "cell_type": "code",
   "execution_count": 45,
   "metadata": {
    "execution": {
     "iopub.execute_input": "2023-06-11T05:08:24.663808Z",
     "iopub.status.busy": "2023-06-11T05:08:24.663423Z",
     "iopub.status.idle": "2023-06-11T05:08:35.966007Z",
     "shell.execute_reply": "2023-06-11T05:08:35.965180Z",
     "shell.execute_reply.started": "2023-06-11T05:08:24.663776Z"
    },
    "tags": []
   },
   "outputs": [
    {
     "data": {
      "application/vnd.jupyter.widget-view+json": {
       "model_id": "a38560c423b74178ad36cfd730b3ceb3",
       "version_major": 2,
       "version_minor": 0
      },
      "text/plain": [
       "VBox()"
      ]
     },
     "metadata": {},
     "output_type": "display_data"
    },
    {
     "data": {
      "application/vnd.jupyter.widget-view+json": {
       "model_id": "",
       "version_major": 2,
       "version_minor": 0
      },
      "text/plain": [
       "FloatProgress(value=0.0, bar_style='info', description='Progress:', layout=Layout(height='25px', width='50%'),…"
      ]
     },
     "metadata": {},
     "output_type": "display_data"
    },
    {
     "name": "stdout",
     "output_type": "stream",
     "text": [
      "     is_delayed estimated_year_month    count   % Total  % Year-Month-Total\n",
      "0         early              2020-05   209505  0.389090           13.578862\n",
      "1       delayed              2020-05   606877  1.127084           39.334140\n",
      "2   on schedule              2020-05   726494  1.349235           47.086999\n",
      "3         early              2020-11       57  0.000106          100.000000\n",
      "4         early              2020-07   175758  0.326415            9.249730\n",
      "5       delayed              2020-07  1017451  1.889596           53.546051\n",
      "6   on schedule              2020-07   706933  1.312906           37.204219\n",
      "7       delayed              2019-08   755466  1.403041           44.525609\n",
      "8   on schedule              2019-08   807140  1.499009           47.571168\n",
      "9         early              2019-08   134094  0.249038            7.903224\n",
      "10  on schedule              2019-09   669182  1.242796           42.031537\n",
      "11      delayed              2019-09   809683  1.503732           50.856450\n",
      "12        early              2019-09   113230  0.210289            7.112013\n",
      "13        early              2020-03    96180  0.178624            7.340623\n",
      "14  on schedule              2020-03   457970  0.850536           34.953058\n",
      "15      delayed              2020-03   756093  1.404206           57.706319\n",
      "16        early              2020-09   161998  0.300860           10.198431\n",
      "17      delayed              2020-09  1039328  1.930226           65.429913\n",
      "18  on schedule              2020-09   387134  0.718980           24.371656\n",
      "19      delayed              2020-06   745268  1.384102           44.995955\n",
      "20  on schedule              2020-06   717191  1.331957           43.300791\n",
      "21        early              2020-06   193841  0.359999           11.703254\n",
      "22      delayed              2019-10   766682  1.423871           47.807131\n",
      "23  on schedule              2019-10   723678  1.344005           45.125579\n",
      "24        early              2019-10   113338  0.210490            7.067291\n",
      "25        early              2019-03    98887  0.183652            7.433045\n",
      "26  on schedule              2019-03   409488  0.760496           30.780009\n",
      "27      delayed              2019-03   821995  1.526598           61.786946\n",
      "28      delayed              2018-02  1001184  1.859385           66.114602\n",
      "29        early              2018-02    89652  0.166500            5.920297"
     ]
    }
   ],
   "source": [
    "row_cnt = df_header.count()\n",
    "\n",
    "window_spec = Window.partitionBy(\"estimated_year_month\")\n",
    "\n",
    "df_delay = (df_header.withColumn(\"row_count\", count(\"*\").over(window_spec))\n",
    "                     .groupBy('is_delayed', 'estimated_year_month')\n",
    "                     .agg(F.count('*').alias('count'), F.first('row_count').alias('row_count'))\n",
    "                     .select('is_delayed', 'estimated_year_month', 'count',\n",
    "                            (F.col('count')/F.lit(row_cnt)*100).alias('% Total'),\n",
    "                            (F.col('count')/F.col('row_count')*100).alias('% Year-Month-Total')).toPandas())\n",
    "\n",
    "write_csv = df_delay.to_csv(index=False)\n",
    "s3.put_object(Body=write_csv, Bucket=dir_, Key='extracted_csv/delay_early_distri_year_month.csv')\n",
    "df_delay.head(30)"
   ]
  },
  {
   "cell_type": "markdown",
   "metadata": {},
   "source": [
    "#### Mean Delay Country Count"
   ]
  },
  {
   "cell_type": "code",
   "execution_count": 288,
   "metadata": {
    "execution": {
     "iopub.execute_input": "2023-06-01T17:45:19.205936Z",
     "iopub.status.busy": "2023-06-01T17:45:19.205564Z",
     "iopub.status.idle": "2023-06-01T17:45:22.495637Z",
     "shell.execute_reply": "2023-06-01T17:45:22.493060Z",
     "shell.execute_reply.started": "2023-06-01T17:45:19.205870Z"
    },
    "tags": []
   },
   "outputs": [
    {
     "data": {
      "application/vnd.jupyter.widget-view+json": {
       "model_id": "5c98bda51aae4591ae641d1f8b3c2291",
       "version_major": 2,
       "version_minor": 0
      },
      "text/plain": [
       "VBox()"
      ]
     },
     "metadata": {},
     "output_type": "display_data"
    },
    {
     "data": {
      "application/vnd.jupyter.widget-view+json": {
       "model_id": "",
       "version_major": 2,
       "version_minor": 0
      },
      "text/plain": [
       "FloatProgress(value=0.0, bar_style='info', description='Progress:', layout=Layout(height='25px', width='50%'),…"
      ]
     },
     "metadata": {},
     "output_type": "display_data"
    },
    {
     "name": "stdout",
     "output_type": "stream",
     "text": [
      "   vessel_country_code   count  mean_delay   % Total          country_name\n",
      "0                   GQ      74    9.216216  0.000137     Equatorial Guinea\n",
      "1                   AD   41508    8.951720  0.077088               Andorra\n",
      "2                   CV     774    8.757106  0.001437            Cape Verde\n",
      "3                   GW      63    8.206349  0.000117         Guinea-Bissau\n",
      "4                   ET      59    8.101695  0.000110              Ethiopia\n",
      "5                   BO      98    7.581633  0.000182               Bolivia\n",
      "6                   QA    1785    6.144538  0.003315                 Qatar\n",
      "7                   TR   43365    6.018102  0.080537                Turkey\n",
      "8                   BG      80    5.287500  0.000149              Bulgaria\n",
      "9                   AQ      55    5.200000  0.000102                   NaN\n",
      "10                  KW    4190    5.088305  0.007782                Kuwait\n",
      "11                  AE   25029    4.598426  0.046484  United Arab Emirates\n",
      "12                  AW     419    4.248210  0.000778                 Aruba\n",
      "13                  GA    1014    3.971400  0.001883                 Gabon\n",
      "14                  PE      66    3.939394  0.000123                  Peru\n",
      "15                  IN    1088    3.738051  0.002021                 India\n",
      "16                  PW    1724    3.624130  0.003202                 Palau\n",
      "17                  LV     864    3.479167  0.001605                Latvia\n",
      "18                  MU     281    3.459075  0.000522             Mauritius\n",
      "19                  PL     957    3.426332  0.001777                Poland\n",
      "20                  MX     753    3.424967  0.001398                Mexico\n",
      "21                  DM     161    3.416149  0.000299              Dominica\n",
      "22                  FR  952480    3.380888  1.768933                France\n",
      "23                  MY    3308    3.306832  0.006144              Malaysia\n",
      "24                  HU     110    3.290909  0.000204               Hungary\n",
      "25                  GF      55    3.218182  0.000102         French Guiana\n",
      "26                  GI   12985    3.213015  0.024116             Gibraltar\n",
      "27                  GE   35881    3.179900  0.066638               Georgia\n",
      "28                  AT     117    3.162393  0.000217               Austria\n",
      "29                  MQ      89    3.056180  0.000165            Martinique"
     ]
    }
   ],
   "source": [
    "row_cnt = df_header.count()\n",
    "\n",
    "df_delay = (df_header.groupBy('vessel_country_code')\n",
    "                     .agg(F.count('*').alias('count'), F.mean('delay').alias('mean_delay'))\n",
    "                     .select('vessel_country_code', 'count', 'mean_delay',\n",
    "                            (F.col('count')/F.lit(row_cnt)*100).alias('% Total'))\n",
    "                     .where(F.col('count') >= 50)\n",
    "                     .orderBy(F.desc('mean_delay')).toPandas())\n",
    "df_delay[\"country_name\"] = df_delay[\"vessel_country_code\"].map(country_codes)\n",
    "write_csv = df_delay.to_csv(index=False)\n",
    "s3.put_object(Body=write_csv, Bucket=dir_, Key='extracted_csv/mean_country_delay_and_early.csv')\n",
    "df_delay.head(30)"
   ]
  },
  {
   "cell_type": "markdown",
   "metadata": {},
   "source": [
    "#### Sorted by Mean Delay Country Count"
   ]
  },
  {
   "cell_type": "code",
   "execution_count": 289,
   "metadata": {
    "execution": {
     "iopub.execute_input": "2023-06-01T17:45:22.496970Z",
     "iopub.status.busy": "2023-06-01T17:45:22.496655Z",
     "iopub.status.idle": "2023-06-01T17:45:22.575015Z",
     "shell.execute_reply": "2023-06-01T17:45:22.574137Z",
     "shell.execute_reply.started": "2023-06-01T17:45:22.496934Z"
    },
    "tags": []
   },
   "outputs": [
    {
     "data": {
      "application/vnd.jupyter.widget-view+json": {
       "model_id": "69ab5d3fa5594a998b01c1407af103ed",
       "version_major": 2,
       "version_minor": 0
      },
      "text/plain": [
       "VBox()"
      ]
     },
     "metadata": {},
     "output_type": "display_data"
    },
    {
     "data": {
      "application/vnd.jupyter.widget-view+json": {
       "model_id": "",
       "version_major": 2,
       "version_minor": 0
      },
      "text/plain": [
       "FloatProgress(value=0.0, bar_style='info', description='Progress:', layout=Layout(height='25px', width='50%'),…"
      ]
     },
     "metadata": {},
     "output_type": "display_data"
    },
    {
     "name": "stdout",
     "output_type": "stream",
     "text": [
      "    vessel_country_code   count  mean_delay   % Total            country_name\n",
      "163                  NC      65  -20.846154  0.000121           New Caledonia\n",
      "162                  NZ     834  -18.488010  0.001549             New Zealand\n",
      "161                  SA   10996   -1.718807  0.020422            Saudi Arabia\n",
      "160                  PF     212   -1.716981  0.000394        French Polynesia\n",
      "159                  MZ     494   -1.149798  0.000917              Mozambique\n",
      "158                  SK     146   -1.047945  0.000271                Slovakia\n",
      "157                  MN     107   -0.467290  0.000199                Mongolia\n",
      "156                  CL    1912    0.008891  0.003551                   Chile\n",
      "155                  KG      99    0.020202  0.000184              Kyrgyzstan\n",
      "154                  FO     220    0.063636  0.000409           Faroe Islands\n",
      "153                  EE      88    0.102273  0.000163                 Estonia\n",
      "152                  GU      51    0.117647  0.000095                     NaN\n",
      "151                  BD     166    0.138554  0.000308              Bangladesh\n",
      "150                  TG    3873    0.198812  0.007193                    Togo\n",
      "149                  CK     798    0.296992  0.001482            Cook Islands\n",
      "148                  TZ    7358    0.306061  0.013665                Tanzania\n",
      "147                  ES    1444    0.377424  0.002682                   Spain\n",
      "146                  MP     197    0.451777  0.000366                     NaN\n",
      "145                  HN    1844    0.468004  0.003425                Honduras\n",
      "144                  GM     120    0.591667  0.000223                  Gambia\n",
      "143                  IS   11555    0.605193  0.021460                 Iceland\n",
      "142                  VG     341    0.607038  0.000633  British Virgin Islands\n",
      "141                  AS     641    0.617785  0.001190                     NaN\n",
      "140                  AG  436329    0.644766  0.810344     Antigua and Barbuda\n",
      "139                  EN     153    0.660131  0.000284                     NaN\n",
      "138                  GP     149    0.684564  0.000277              Guadeloupe\n",
      "137                  CO     141    0.723404  0.000262                Colombia\n",
      "136                  BH     832    0.731971  0.001545                 Bahrain\n",
      "135                  MR     570    0.764912  0.001059              Mauritania\n",
      "134                  MD    9808    0.780587  0.018215                 Moldova"
     ]
    }
   ],
   "source": [
    "df_delay.sort_values(by='mean_delay').head(30)"
   ]
  },
  {
   "cell_type": "markdown",
   "metadata": {},
   "source": [
    "#### Sorted by Mean Delay Country To Check Early Shippers "
   ]
  },
  {
   "cell_type": "code",
   "execution_count": 36,
   "metadata": {
    "execution": {
     "iopub.execute_input": "2023-06-11T04:52:49.532903Z",
     "iopub.status.busy": "2023-06-11T04:52:49.532464Z",
     "iopub.status.idle": "2023-06-11T04:52:54.837691Z",
     "shell.execute_reply": "2023-06-11T04:52:54.837008Z",
     "shell.execute_reply.started": "2023-06-11T04:52:49.532858Z"
    },
    "tags": []
   },
   "outputs": [
    {
     "data": {
      "application/vnd.jupyter.widget-view+json": {
       "model_id": "9d43acb35ef5445bb65c4767aa932872",
       "version_major": 2,
       "version_minor": 0
      },
      "text/plain": [
       "VBox()"
      ]
     },
     "metadata": {},
     "output_type": "display_data"
    },
    {
     "data": {
      "application/vnd.jupyter.widget-view+json": {
       "model_id": "",
       "version_major": 2,
       "version_minor": 0
      },
      "text/plain": [
       "FloatProgress(value=0.0, bar_style='info', description='Progress:', layout=Layout(height='25px', width='50%'),…"
      ]
     },
     "metadata": {},
     "output_type": "display_data"
    },
    {
     "name": "stdout",
     "output_type": "stream",
     "text": [
      "   vessel_country_code    count  mean_delay    % Total          country_name\n",
      "0                   PA  5817596    3.781203  19.198951                Panama\n",
      "1                   HK  5204204    4.204467  17.174664             Hong Kong\n",
      "2                   LR  4349193    3.958279  14.352998               Liberia\n",
      "3                   SG  2435831    3.289145   8.038612             Singapore\n",
      "4                   GB  1612495    5.619168   5.321479        United Kingdom\n",
      "5                   MT  1597931    4.406596   5.273415                 Malta\n",
      "6                   DE  1475025    5.029873   4.867807               Germany\n",
      "7                   MH  1301019    4.084814   4.293560      Marshall Islands\n",
      "8                   US  1286078    3.159671   4.244253         United States\n",
      "9                   DK   894329    3.122431   2.951422               Denmark\n",
      "10                  PT   863843    3.661480   2.850813              Portugal\n",
      "11                  JP   629927    4.164778   2.078855                 Japan\n",
      "12                  TW   574945    3.968943   1.897406                Taiwan\n",
      "13                  FR   568913    6.320154   1.877499                France\n",
      "14                  CY   415020    3.184167   1.369629                Cyprus\n",
      "15                  BS   251640    3.935646   0.830450               Bahamas\n",
      "16                  GR   146890    4.376853   0.484759                Greece\n",
      "17                  AG   134452    2.939064   0.443712   Antigua and Barbuda\n",
      "18                  IL   108420    4.489651   0.357802                Israel\n",
      "19                  CN   104571    4.595356   0.345100                 China\n",
      "20                  KR    91227    3.491105   0.301063           South Korea\n",
      "21                  CA    43647    4.162440   0.144042                Canada\n",
      "22                  IT    38983    2.952236   0.128650                 Italy\n",
      "23                  TR    34216    8.062544   0.112918                Turkey\n",
      "24                  BM    33943    4.192912   0.112017               Bermuda\n",
      "25                  GE    33072    3.769080   0.109143               Georgia\n",
      "26                  NL    29343    5.666360   0.096836           Netherlands\n",
      "27                  NO    27359    4.416024   0.090289                Norway\n",
      "28                  AD    27051   14.585450   0.089272               Andorra\n",
      "29                  AE    15964    7.625971   0.052684  United Arab Emirates"
     ]
    }
   ],
   "source": [
    "row_cnt = df_header.where(F.col('is_delayed') == 'delayed').count()\n",
    "\n",
    "df_delay = (df_header.where(F.col('is_delayed') == 'delayed')\n",
    "                     .groupBy('vessel_country_code')\n",
    "                     .agg(F.count('*').alias('count'), F.mean('delay').alias('mean_delay'))\n",
    "                     .select('vessel_country_code', 'count', 'mean_delay',\n",
    "                            (F.col('count')/F.lit(row_cnt)*100).alias('% Total'))\n",
    "                     .orderBy(F.desc('count')).toPandas())\n",
    "df_delay[\"country_name\"] = df_delay[\"vessel_country_code\"].map(country_codes)\n",
    "write_csv = df_delay.to_csv(index=False)\n",
    "s3.put_object(Body=write_csv, Bucket=dir_, Key='extracted_csv/delayed_country_count.csv')\n",
    "df_delay.head(30)"
   ]
  },
  {
   "cell_type": "markdown",
   "metadata": {},
   "source": [
    "#### Sorted by Count Early Country Count"
   ]
  },
  {
   "cell_type": "code",
   "execution_count": 291,
   "metadata": {
    "execution": {
     "iopub.execute_input": "2023-06-01T17:45:26.221761Z",
     "iopub.status.busy": "2023-06-01T17:45:26.221340Z",
     "iopub.status.idle": "2023-06-01T17:45:29.538443Z",
     "shell.execute_reply": "2023-06-01T17:45:29.537078Z",
     "shell.execute_reply.started": "2023-06-01T17:45:26.221722Z"
    },
    "tags": []
   },
   "outputs": [
    {
     "data": {
      "application/vnd.jupyter.widget-view+json": {
       "model_id": "a2eb5e4d814c49369eefd1d3f4722014",
       "version_major": 2,
       "version_minor": 0
      },
      "text/plain": [
       "VBox()"
      ]
     },
     "metadata": {},
     "output_type": "display_data"
    },
    {
     "data": {
      "application/vnd.jupyter.widget-view+json": {
       "model_id": "",
       "version_major": 2,
       "version_minor": 0
      },
      "text/plain": [
       "FloatProgress(value=0.0, bar_style='info', description='Progress:', layout=Layout(height='25px', width='50%'),…"
      ]
     },
     "metadata": {},
     "output_type": "display_data"
    },
    {
     "name": "stdout",
     "output_type": "stream",
     "text": [
      "   vessel_country_code    count  ...    % Total                      country_name\n",
      "0                   LR  3597473  ...  15.280268                           Liberia\n",
      "1                   PA  3302767  ...  14.028504                            Panama\n",
      "2                   HK  2694246  ...  11.443811                         Hong Kong\n",
      "3                   SG  2523297  ...  10.717705                         Singapore\n",
      "4                   GB  1827593  ...   7.762702                    United Kingdom\n",
      "5                   US  1757402  ...   7.464566                     United States\n",
      "6                   MT  1215937  ...   5.164693                             Malta\n",
      "7                   DK   960951  ...   4.081640                           Denmark\n",
      "8                   DE   888392  ...   3.773445                           Germany\n",
      "9                   MH   782751  ...   3.324735                  Marshall Islands\n",
      "10                  PT   775575  ...   3.294255                          Portugal\n",
      "11                  TW   665832  ...   2.828122                            Taiwan\n",
      "12                  CY   429753  ...   1.825376                            Cyprus\n",
      "13                  FR   383567  ...   1.629201                            France\n",
      "14                  BS   358914  ...   1.524487                           Bahamas\n",
      "15                  AG   301877  ...   1.282223               Antigua and Barbuda\n",
      "16                  GR   218033  ...   0.926095                            Greece\n",
      "17                  JP   191399  ...   0.812967                             Japan\n",
      "18                  CN   147363  ...   0.625924                             China\n",
      "19                  BM    66932  ...   0.284294                           Bermuda\n",
      "20                  KR    65090  ...   0.276470                       South Korea\n",
      "21                  VC    46508  ...   0.197543  Saint Vincent and the Grenadines\n",
      "22                  IL    42698  ...   0.181360                            Israel\n",
      "23                  IT    34188  ...   0.145214                             Italy\n",
      "24                  CA    30134  ...   0.127994                            Canada\n",
      "25                  JM    28223  ...   0.119877                           Jamaica\n",
      "26                  NL    27490  ...   0.116764                       Netherlands\n",
      "27                  LB    18547  ...   0.078778                           Lebanon\n",
      "28                  LU    17244  ...   0.073244                        Luxembourg\n",
      "29                  AD    14457  ...   0.061406                           Andorra\n",
      "\n",
      "[30 rows x 5 columns]"
     ]
    }
   ],
   "source": [
    "row_cnt = df_header.where(F.col('is_delayed') != 'delayed').count()\n",
    "\n",
    "window_spec = Window.partitionBy(\"estimated_year\")\n",
    "\n",
    "df_delay = (df_header.where(F.col('is_delayed') != 'delayed')\n",
    "                     .groupBy('vessel_country_code')\n",
    "                     .agg(F.count('*').alias('count'), F.mean('delay').alias('mean_early'))\n",
    "                     .select('vessel_country_code', 'count', 'mean_early',\n",
    "                            (F.col('count')/F.lit(row_cnt)*100).alias('% Total'))\n",
    "                     .orderBy(F.desc('count')).toPandas())\n",
    "\n",
    "df_delay[\"country_name\"] = df_delay[\"vessel_country_code\"].map(country_codes)\n",
    "\n",
    "write_csv = df_delay.to_csv(index=False)\n",
    "s3.put_object(Body=write_csv, Bucket=dir_, Key='extracted_csv/early_country_count.csv')\n",
    "df_delay.head(30)"
   ]
  },
  {
   "cell_type": "markdown",
   "metadata": {},
   "source": [
    "#### Top 10 S Mean Delay Country Sorted Count"
   ]
  },
  {
   "cell_type": "code",
   "execution_count": 292,
   "metadata": {
    "execution": {
     "iopub.execute_input": "2023-06-01T17:45:29.540242Z",
     "iopub.status.busy": "2023-06-01T17:45:29.539979Z",
     "iopub.status.idle": "2023-06-01T17:45:34.924920Z",
     "shell.execute_reply": "2023-06-01T17:45:34.924027Z",
     "shell.execute_reply.started": "2023-06-01T17:45:29.540209Z"
    },
    "tags": []
   },
   "outputs": [
    {
     "data": {
      "application/vnd.jupyter.widget-view+json": {
       "model_id": "50e308bb91064f9ebdd9798ad27e7c44",
       "version_major": 2,
       "version_minor": 0
      },
      "text/plain": [
       "VBox()"
      ]
     },
     "metadata": {},
     "output_type": "display_data"
    },
    {
     "data": {
      "application/vnd.jupyter.widget-view+json": {
       "model_id": "",
       "version_major": 2,
       "version_minor": 0
      },
      "text/plain": [
       "FloatProgress(value=0.0, bar_style='info', description='Progress:', layout=Layout(height='25px', width='50%'),…"
      ]
     },
     "metadata": {},
     "output_type": "display_data"
    },
    {
     "name": "stdout",
     "output_type": "stream",
     "text": [
      "   vessel_country_code  actual_year  ...  row_num      country_name\n",
      "0                   PA         2018  ...        1            Panama\n",
      "1                   HK         2018  ...        2         Hong Kong\n",
      "2                   LR         2018  ...        3           Liberia\n",
      "3                   SG         2018  ...        4         Singapore\n",
      "4                   GB         2018  ...        5    United Kingdom\n",
      "5                   MT         2018  ...        6             Malta\n",
      "6                   MH         2018  ...        7  Marshall Islands\n",
      "7                   US         2018  ...        8     United States\n",
      "8                   DE         2018  ...        9           Germany\n",
      "9                   PT         2018  ...       10          Portugal\n",
      "10                  PA         2019  ...        1            Panama\n",
      "11                  HK         2019  ...        2         Hong Kong\n",
      "12                  LR         2019  ...        3           Liberia\n",
      "13                  SG         2019  ...        4         Singapore\n",
      "14                  DE         2019  ...        5           Germany\n",
      "15                  GB         2019  ...        6    United Kingdom\n",
      "16                  MH         2019  ...        7  Marshall Islands\n",
      "17                  MT         2019  ...        8             Malta\n",
      "18                  US         2019  ...        9     United States\n",
      "19                  DK         2019  ...       10           Denmark\n",
      "20                  PA         2020  ...        1            Panama\n",
      "21                  HK         2020  ...        2         Hong Kong\n",
      "22                  LR         2020  ...        3           Liberia\n",
      "23                  SG         2020  ...        4         Singapore\n",
      "24                  MT         2020  ...        5             Malta\n",
      "25                  DE         2020  ...        6           Germany\n",
      "26                  GB         2020  ...        7    United Kingdom\n",
      "27                  US         2020  ...        8     United States\n",
      "28                  MH         2020  ...        9  Marshall Islands\n",
      "29                  DK         2020  ...       10           Denmark\n",
      "\n",
      "[30 rows x 6 columns]"
     ]
    }
   ],
   "source": [
    "row_cnt = df_header.where(F.col('is_delayed') == 'delayed').count()\n",
    "\n",
    "df_delay = (df_header.where(F.col('is_delayed') == 'delayed')\n",
    "                     .groupBy('vessel_country_code', 'actual_year')\n",
    "                     .agg(F.count('*').alias('count'), F.mean('delay').alias('mean_delay'))\n",
    "                     .orderBy(F.desc('count'))\n",
    "                     .where(F.col('count') >= 50))\n",
    "\n",
    "window_spec = Window.partitionBy([\"actual_year\"]).orderBy(df_delay[\"count\"].desc())\n",
    "\n",
    "df_delay = df_delay.withColumn(\"row_num\", row_number().over(window_spec))\n",
    "\n",
    "# Filter the DataFrame to get the top 10 rows for each year\n",
    "N = 10\n",
    "df_delay = df_delay.filter(df_delay.row_num <= N).toPandas()\n",
    "df_delay[\"country_name\"] = df_delay[\"vessel_country_code\"].map(country_codes)\n",
    "\n",
    "write_csv = df_delay.to_csv(index=False)\n",
    "s3.put_object(Body=write_csv, Bucket=dir_, Key='extracted_csv/delayed_country_count_year.csv')\n",
    "df_delay.head(30)"
   ]
  },
  {
   "cell_type": "markdown",
   "metadata": {},
   "source": [
    "#### Top 10 Mean Country Delayed Count"
   ]
  },
  {
   "cell_type": "code",
   "execution_count": 293,
   "metadata": {
    "execution": {
     "iopub.execute_input": "2023-06-01T17:45:34.926218Z",
     "iopub.status.busy": "2023-06-01T17:45:34.925971Z",
     "iopub.status.idle": "2023-06-01T17:45:40.286732Z",
     "shell.execute_reply": "2023-06-01T17:45:40.268387Z",
     "shell.execute_reply.started": "2023-06-01T17:45:34.926192Z"
    },
    "tags": []
   },
   "outputs": [
    {
     "data": {
      "application/vnd.jupyter.widget-view+json": {
       "model_id": "ce1aec97bfe543ed96dca2dbf055329d",
       "version_major": 2,
       "version_minor": 0
      },
      "text/plain": [
       "VBox()"
      ]
     },
     "metadata": {},
     "output_type": "display_data"
    },
    {
     "data": {
      "application/vnd.jupyter.widget-view+json": {
       "model_id": "",
       "version_major": 2,
       "version_minor": 0
      },
      "text/plain": [
       "FloatProgress(value=0.0, bar_style='info', description='Progress:', layout=Layout(height='25px', width='50%'),…"
      ]
     },
     "metadata": {},
     "output_type": "display_data"
    },
    {
     "name": "stdout",
     "output_type": "stream",
     "text": [
      "   vessel_country_code  actual_year  ...  row_num           country_name\n",
      "0                   SA         2018  ...        1           Saudi Arabia\n",
      "1                   TR         2018  ...        2                 Turkey\n",
      "2                   VN         2018  ...        3                Vietnam\n",
      "3                   QA         2018  ...        4                  Qatar\n",
      "4                   PL         2018  ...        5                 Poland\n",
      "5                   BR         2018  ...        6                 Brazil\n",
      "6                   GI         2018  ...        7              Gibraltar\n",
      "7                   IN         2018  ...        8                  India\n",
      "8                   CR         2018  ...        9             Costa Rica\n",
      "9                   CL         2018  ...       10                  Chile\n",
      "10                  AD         2019  ...        1                Andorra\n",
      "11                  GQ         2019  ...        2      Equatorial Guinea\n",
      "12                  CV         2019  ...        3             Cape Verde\n",
      "13                  VN         2019  ...        4                Vietnam\n",
      "14                  MX         2019  ...        5                 Mexico\n",
      "15                  BE         2019  ...        6                Belgium\n",
      "16                  MZ         2019  ...        7             Mozambique\n",
      "17                  TR         2019  ...        8                 Turkey\n",
      "18                  FI         2019  ...        9                Finland\n",
      "19                  KY         2019  ...       10         Cayman Islands\n",
      "20                  FI         2020  ...        1                Finland\n",
      "21                  BB         2020  ...        2               Barbados\n",
      "22                  KN         2020  ...        3  Saint Kitts and Nevis\n",
      "23                  LU         2020  ...        4             Luxembourg\n",
      "24                  AD         2020  ...        5                Andorra\n",
      "25                  SA         2020  ...        6           Saudi Arabia\n",
      "26                  ZA         2020  ...        7           South Africa\n",
      "27                  MU         2020  ...        8              Mauritius\n",
      "28                  MX         2020  ...        9                 Mexico\n",
      "29                  AE         2020  ...       10   United Arab Emirates\n",
      "\n",
      "[30 rows x 6 columns]"
     ]
    }
   ],
   "source": [
    "row_cnt = df_header.where(F.col('is_delayed') == 'delayed').count()\n",
    "\n",
    "df_delay = (df_header.where(F.col('is_delayed') == 'delayed')\n",
    "                     .groupBy('vessel_country_code', 'actual_year')\n",
    "                     .agg(F.count('*').alias('count'), F.mean('delay').alias('mean_delay'))\n",
    "                     .orderBy(F.desc('count'))\n",
    "                     .where(F.col('count') >= 50))\n",
    "\n",
    "window_spec = Window.partitionBy([\"actual_year\"]).orderBy(df_delay[\"mean_delay\"].desc())\n",
    "\n",
    "df_delay = df_delay.withColumn(\"row_num\", row_number().over(window_spec))\n",
    "\n",
    "# Filter the DataFrame to get the top 10 rows for each year\n",
    "N = 10\n",
    "df_delay = df_delay.filter(df_delay.row_num <= N).toPandas()\n",
    "df_delay[\"country_name\"] = df_delay[\"vessel_country_code\"].map(country_codes)\n",
    "\n",
    "write_csv = df_delay.to_csv(index=False)\n",
    "s3.put_object(Body=write_csv, Bucket=dir_, Key='extracted_csv/delayed_country_mean_desc_year.csv')\n",
    "df_delay.head(30)"
   ]
  },
  {
   "cell_type": "markdown",
   "metadata": {},
   "source": [
    "#### Top 10 Mean Country Early Sorted Count"
   ]
  },
  {
   "cell_type": "code",
   "execution_count": null,
   "metadata": {
    "execution": {
     "iopub.execute_input": "2023-06-01T17:45:40.289008Z",
     "iopub.status.busy": "2023-06-01T17:45:40.288654Z",
     "iopub.status.idle": "2023-06-01T17:45:43.571655Z",
     "shell.execute_reply": "2023-06-01T17:45:43.570759Z",
     "shell.execute_reply.started": "2023-06-01T17:45:40.288960Z"
    },
    "tags": []
   },
   "outputs": [],
   "source": [
    "row_cnt = df_header.where(F.col('is_delayed') != 'delayed').count()\n",
    "\n",
    "df_delay = (df_header.where(F.col('is_delayed') != 'delayed')\n",
    "                     .groupBy('vessel_country_code', 'actual_year')\n",
    "                     .agg(F.count('*').alias('count'), F.mean('delay').alias('mean_delay'))\n",
    "                     .orderBy(F.desc('count'))\n",
    "                     .where(F.col('count') >= 50))\n",
    "\n",
    "window_spec = Window.partitionBy([\"actual_year\"]).orderBy(df_delay[\"count\"].desc())\n",
    "\n",
    "df_delay = df_delay.withColumn(\"row_num\", row_number().over(window_spec))\n",
    "\n",
    "# Filter the DataFrame to get the top 10 rows for each year\n",
    "N = 10\n",
    "df_delay = df_delay.filter(df_delay.row_num <= N).toPandas()\n",
    "df_delay[\"country_name\"] = df_delay[\"vessel_country_code\"].map(country_codes)\n",
    "\n",
    "write_csv = df_delay.to_csv(index=False)\n",
    "s3.put_object(Body=write_csv, Bucket=dir_, Key='extracted_csv/early_country_count_year.csv')\n",
    "df_delay.head(30)"
   ]
  },
  {
   "cell_type": "markdown",
   "metadata": {
    "execution": {
     "iopub.execute_input": "2023-06-10T13:32:56.248463Z",
     "iopub.status.busy": "2023-06-10T13:32:56.248142Z",
     "iopub.status.idle": "2023-06-10T13:32:56.302264Z",
     "shell.execute_reply": "2023-06-10T13:32:56.301304Z",
     "shell.execute_reply.started": "2023-06-10T13:32:56.248426Z"
    }
   },
   "source": [
    "#### Top 10 Mean Country Early Year Count"
   ]
  },
  {
   "cell_type": "code",
   "execution_count": 295,
   "metadata": {
    "execution": {
     "iopub.execute_input": "2023-06-01T17:45:43.572993Z",
     "iopub.status.busy": "2023-06-01T17:45:43.572743Z",
     "iopub.status.idle": "2023-06-01T17:45:46.852328Z",
     "shell.execute_reply": "2023-06-01T17:45:46.851396Z",
     "shell.execute_reply.started": "2023-06-01T17:45:43.572960Z"
    },
    "tags": []
   },
   "outputs": [
    {
     "data": {
      "application/vnd.jupyter.widget-view+json": {
       "model_id": "36a6cd5e912f4799a255195960778058",
       "version_major": 2,
       "version_minor": 0
      },
      "text/plain": [
       "VBox()"
      ]
     },
     "metadata": {},
     "output_type": "display_data"
    },
    {
     "data": {
      "application/vnd.jupyter.widget-view+json": {
       "model_id": "",
       "version_major": 2,
       "version_minor": 0
      },
      "text/plain": [
       "FloatProgress(value=0.0, bar_style='info', description='Progress:', layout=Layout(height='25px', width='50%'),…"
      ]
     },
     "metadata": {},
     "output_type": "display_data"
    },
    {
     "name": "stdout",
     "output_type": "stream",
     "text": [
      "   vessel_country_code  actual_year  count  mean_delay  row_num    country_name\n",
      "0                   MZ         2018     51  -17.078431        1      Mozambique\n",
      "1                   KY         2018   1183   -6.044801        2  Cayman Islands\n",
      "2                   GE         2018    548   -5.521898        3         Georgia\n",
      "3                   ML         2018     70   -5.228571        4            Mali\n",
      "4                   NZ         2018    231   -4.956710        5     New Zealand\n",
      "5                   CL         2018     79   -4.215190        6           Chile\n",
      "6                   BH         2018    208   -4.081731        7         Bahrain\n",
      "7                   ID         2018    133   -3.233083        8       Indonesia\n",
      "8                   AF         2018    600   -2.903333        9     Afghanistan\n",
      "9                   SA         2018    203   -2.871921       10    Saudi Arabia\n",
      "10                  NZ         2019    565  -25.522124        1     New Zealand\n",
      "11                  VN         2019    107  -24.887850        2         Vietnam\n",
      "12                  CL         2019    122  -24.008197        3           Chile\n",
      "13                  MX         2019    141   -8.375887        4          Mexico\n",
      "14                  AF         2019    837   -6.665472        5     Afghanistan\n",
      "15                  SA         2019    669   -6.611360        6    Saudi Arabia\n",
      "16                  NO         2019   5347   -4.518983        7          Norway\n",
      "17                  MZ         2019     74   -3.878378        8      Mozambique\n",
      "18                  ID         2019    143   -3.755245        9       Indonesia\n",
      "19                  KR         2019  22421   -3.371125       10     South Korea\n",
      "20                  MZ         2020     50  -24.000000        1      Mozambique\n",
      "21                  SA         2020   4828  -13.392709        2    Saudi Arabia\n",
      "22                  LU         2020    296   -7.033784        3      Luxembourg\n",
      "23                  SE         2020    162   -5.382716        4          Sweden\n",
      "24                  GE         2020   1667   -3.712058        5         Georgia\n",
      "25                  BH         2020     51   -3.333333        6         Bahrain\n",
      "26                  LB         2020   1120   -2.752679        7         Lebanon\n",
      "27                  NO         2020   2727   -2.537220        8          Norway\n",
      "28                  ZA         2020     82   -2.329268        9    South Africa\n",
      "29                  AS         2020     84   -2.261905       10             NaN"
     ]
    }
   ],
   "source": [
    "row_cnt = df_header.where(F.col('is_delayed') != 'delayed').count()\n",
    "\n",
    "df_delay = (df_header.where(F.col('is_delayed') != 'delayed')\n",
    "                     .groupBy('vessel_country_code', 'actual_year')\n",
    "                     .agg(F.count('*').alias('count'), F.mean('delay').alias('mean_delay'))\n",
    "                     .orderBy(F.desc('count'))\n",
    "                     .where(F.col('count') >= 50))\n",
    "\n",
    "window_spec = Window.partitionBy([\"actual_year\"]).orderBy(df_delay[\"mean_delay\"])\n",
    "\n",
    "df_delay = df_delay.withColumn(\"row_num\", row_number().over(window_spec))\n",
    "\n",
    "# Filter the DataFrame to get the top 10 rows for each year\n",
    "N = 10\n",
    "df_delay = df_delay.filter(df_delay.row_num <= N).toPandas()\n",
    "df_delay[\"country_name\"] = df_delay[\"vessel_country_code\"].map(country_codes)\n",
    "\n",
    "write_csv = df_delay.to_csv(index=False)\n",
    "\n",
    "s3.put_object(Body=write_csv, Bucket=dir_, Key='extracted_csv/early_country_mean_desc_year.csv')\n",
    "df_delay.head(30)"
   ]
  },
  {
   "cell_type": "code",
   "execution_count": 307,
   "metadata": {
    "execution": {
     "iopub.execute_input": "2023-06-01T18:21:43.386534Z",
     "iopub.status.busy": "2023-06-01T18:21:43.386214Z",
     "iopub.status.idle": "2023-06-01T18:22:48.963980Z",
     "shell.execute_reply": "2023-06-01T18:22:48.963009Z",
     "shell.execute_reply.started": "2023-06-01T18:21:43.386505Z"
    },
    "tags": []
   },
   "outputs": [
    {
     "data": {
      "application/vnd.jupyter.widget-view+json": {
       "model_id": "73ad9a81878d47118fdf96b469620c5c",
       "version_major": 2,
       "version_minor": 0
      },
      "text/plain": [
       "VBox()"
      ]
     },
     "metadata": {},
     "output_type": "display_data"
    },
    {
     "data": {
      "application/vnd.jupyter.widget-view+json": {
       "model_id": "",
       "version_major": 2,
       "version_minor": 0
      },
      "text/plain": [
       "FloatProgress(value=0.0, bar_style='info', description='Progress:', layout=Layout(height='25px', width='50%'),…"
      ]
     },
     "metadata": {},
     "output_type": "display_data"
    },
    {
     "name": "stdout",
     "output_type": "stream",
     "text": [
      "                     shipper_party_name  count  mean_delay   % Total\n",
      "0    KUNSHAN LUXSHARE RF TECHNOLOGY LTD     62  126.806452  0.000155\n",
      "1               GALLOTTI AND RADICE SRL     70  102.571429  0.000175\n",
      "2         DOLPHIN APPAREL INTERNATIONAL     55  101.090909  0.000138\n",
      "3            KEIN HING INDUSTRY SDN BHD    270   99.874074  0.000676\n",
      "4                      HEINZ ITALIA SPA     54   89.907407  0.000135\n",
      "5               THE FRESH OLIVE COMPANY     62   87.516129  0.000155\n",
      "6                FRACCARO SPUMADORO SPA     58   86.034483  0.000145\n",
      "7                BURGDORF GMBH & CO. KG     56   84.178571  0.000140\n",
      "8     HUBEI GRAND LIFE SCIENCE TECHNOLO     78   83.679487  0.000195\n",
      "9                  SANTUCCI ARMANDO SRL     70   83.357143  0.000175\n",
      "10                 LAPP GMBH KABELWERKE     77   81.675325  0.000193\n",
      "11                              H07 SRL     62   79.870968  0.000155\n",
      "12    OFFICINA DESIGN DI SIALINO ILARIA     58   79.827586  0.000145\n",
      "13                 BKF AEROSPACE CO LTD     51   79.568627  0.000128\n",
      "14                         LAITA EXPORT     80   78.950000  0.000200\n",
      "15                LEVER APPAREL LIMITED     60   78.800000  0.000150\n",
      "16                  NEOPAC HUNGARY LTD.     67   77.925373  0.000168\n",
      "17          WENZHOU HOS GARMENT CO.,LTD    174   77.879310  0.000435\n",
      "18                    ORODJA ERHART DOO    132   77.598485  0.000330\n",
      "19   APLICACIONES MECANICAS DEL CAUCHO,     79   77.101266  0.000198\n",
      "20                  RIEBER GMBH & CO.KG     58   75.189655  0.000145\n",
      "21  ANHUI HELI INDUSTRIAL VEHICLE IMP &     75   74.813333  0.000188\n",
      "22                       BUSCHJOST GMBH    123   73.097561  0.000308\n",
      "23            FUNDICIONES DE RODA, S.A.     84   73.023810  0.000210\n",
      "24                          KUREHA LTD.     65   71.230769  0.000163\n",
      "25             HAHNEMUEHLE FINEART GMBH    237   70.350211  0.000593\n",
      "26                         LABRENTA SRL     53   69.792453  0.000133\n",
      "27                 VFP INK TECHNOLOGIES     71   69.239437  0.000178\n",
      "28                   ASTENJOHNSON PGMGH     56   68.714286  0.000140\n",
      "29                            XBK KABEL    181   68.613260  0.000453"
     ]
    }
   ],
   "source": [
    "row_cnt = df_head_ship.count()\n",
    "\n",
    "df_delay = (df_head_ship.groupBy('shipper_party_name')\n",
    "                        .agg(F.count('*').alias('count'), F.mean('delay').alias('mean_delay'))\n",
    "                        .select('shipper_party_name', 'count', 'mean_delay',\n",
    "                            (F.col('count')/F.lit(row_cnt)*100).alias('% Total'))\n",
    "                        .where(F.col('count') >= 50)\n",
    "                        .orderBy(F.desc('mean_delay')).toPandas())\n",
    "\n",
    "write_csv = df_delay.to_csv(index=False)\n",
    "s3.put_object(Body=write_csv, Bucket=dir_, Key='extracted_csv/mean_order_mean_shipper_delay_early.csv')\n",
    "df_delay.head(30)"
   ]
  },
  {
   "cell_type": "markdown",
   "metadata": {
    "execution": {
     "iopub.execute_input": "2023-06-10T13:33:48.909214Z",
     "iopub.status.busy": "2023-06-10T13:33:48.908902Z",
     "iopub.status.idle": "2023-06-10T13:33:48.965069Z",
     "shell.execute_reply": "2023-06-10T13:33:48.964363Z",
     "shell.execute_reply.started": "2023-06-10T13:33:48.909189Z"
    }
   },
   "source": [
    "#### Mean Shipper Delay Early Count"
   ]
  },
  {
   "cell_type": "code",
   "execution_count": 308,
   "metadata": {
    "execution": {
     "iopub.execute_input": "2023-06-01T18:22:48.965625Z",
     "iopub.status.busy": "2023-06-01T18:22:48.965385Z",
     "iopub.status.idle": "2023-06-01T18:23:28.374192Z",
     "shell.execute_reply": "2023-06-01T18:23:28.373245Z",
     "shell.execute_reply.started": "2023-06-01T18:22:48.965599Z"
    },
    "tags": []
   },
   "outputs": [
    {
     "data": {
      "application/vnd.jupyter.widget-view+json": {
       "model_id": "ac25423702824f6db63bb8e71a6043e9",
       "version_major": 2,
       "version_minor": 0
      },
      "text/plain": [
       "VBox()"
      ]
     },
     "metadata": {},
     "output_type": "display_data"
    },
    {
     "data": {
      "application/vnd.jupyter.widget-view+json": {
       "model_id": "",
       "version_major": 2,
       "version_minor": 0
      },
      "text/plain": [
       "FloatProgress(value=0.0, bar_style='info', description='Progress:', layout=Layout(height='25px', width='50%'),…"
      ]
     },
     "metadata": {},
     "output_type": "display_data"
    },
    {
     "name": "stdout",
     "output_type": "stream",
     "text": [
      "                     shipper_party_name   count  mean_delay   % Total\n",
      "0    ORIENT EXPRESS CONTAINER CO., LTD.  162531    1.798900  0.406746\n",
      "1                      WANG ZHANG JIANG  150065    0.192863  0.375549\n",
      "2          HONOUR LANE SHIPPING LIMITED  126809    1.524884  0.317349\n",
      "3   BEIJING KANG JIE KONG INTERNATIONAL   97340    1.653318  0.243601\n",
      "4                HECNY SHIPPING LIMITED   83004    1.505590  0.207724\n",
      "5       DE WELL CONTAINER SHIPPING INC.   81762    1.514738  0.204615\n",
      "6        TOPOCEAN CONSOLIDATION SERVICE   66164    1.589112  0.165580\n",
      "7       FOREVER LOGISTICS SHENZHEN CO L   55093   -0.500100  0.137874\n",
      "8             PANTOS LOGISTICS CO.,LTD.   55046    1.609835  0.137757\n",
      "9           FEDEX INTERNATIONAL FREIGHT   53171    2.360309  0.133064\n",
      "10  UNION DE BANANEROS ECUATORIANOS S.A   46503    0.026256  0.116377\n",
      "11            HONOUR LANE SHIPPING LTD.   45873    1.753515  0.114801\n",
      "12  SCHAEFFLER TECHNOLOGIES AG & CO. KG   45759    0.616076  0.114515\n",
      "13        INTERGLOBO NORTH AMERICA INC.   45602    1.491294  0.114122\n",
      "14         SAMSUNG ELECTRONICS CO., LTD   43603    1.425292  0.109120\n",
      "15   U.S.UNITED LOGISTICS (NINGBO) INC.   42112    1.155015  0.105388\n",
      "16    SHENZHEN GUANGCHI LOGISTICS CO LT   41656   -0.531256  0.104247\n",
      "17                 RS LOGISTICS LIMITED   40871    1.304617  0.102283\n",
      "18  BEIJING KANG-JIE-KONG INTERNATIONAL   40768    2.182055  0.102025\n",
      "19         KUEHNE + NAGEL (AG & CO.) KG   39175    1.180472  0.098038\n",
      "20   DHL GLOBAL FORWARDING (CHINA) CO.,   38540    1.461131  0.096449\n",
      "21    ORIENT EXPRESS CONTAINER CO.,LTD.   38010    1.464720  0.095123\n",
      "22         BEIJING CENTURY JOYO COURIER   37745    0.928282  0.094460\n",
      "23           PUDONG PRIME INTERNATIONAL   37215    1.973478  0.093133\n",
      "24  TOPOCEAN CONSOLIDATION SERVICE (CHI   36764    1.582173  0.092005\n",
      "25  ORIENT STAR TRANSPORT INTERNATIONAL   36569    1.690011  0.091517\n",
      "26             NEPTUNE SHIPPING LIMITED   36279    1.894898  0.090791\n",
      "27  APM GLOBAL LOGISTICS BANGLADESH LTD   36187    1.617045  0.090561\n",
      "28        CITY OCEAN LOGISTICS CO.,LTD.   36048    1.544552  0.090213\n",
      "29   TOLL GLOBAL FORWARDING (HONG KONG)   35854    1.802505  0.089727"
     ]
    }
   ],
   "source": [
    "df_delay = (df_head_ship.groupBy('shipper_party_name')\n",
    "                        .agg(F.count('*').alias('count'), F.mean('delay').alias('mean_delay'))\n",
    "                        .select('shipper_party_name', 'count', 'mean_delay',\n",
    "                            (F.col('count')/F.lit(row_cnt)*100).alias('% Total'))\n",
    "                        .where(F.col('count') >= 50)\n",
    "                        .orderBy(F.desc('count')).toPandas())\n",
    "\n",
    "write_csv = df_delay.to_csv(index=False)\n",
    "s3.put_object(Body=write_csv, Bucket=dir_, Key='extracted_csv/mean_order_count_shipper_delay_early.csv')\n",
    "df_delay.head(30)"
   ]
  },
  {
   "cell_type": "code",
   "execution_count": 309,
   "metadata": {
    "execution": {
     "iopub.execute_input": "2023-06-01T18:23:28.376020Z",
     "iopub.status.busy": "2023-06-01T18:23:28.375782Z",
     "iopub.status.idle": "2023-06-01T18:24:18.037569Z",
     "shell.execute_reply": "2023-06-01T18:24:18.036591Z",
     "shell.execute_reply.started": "2023-06-01T18:23:28.375995Z"
    },
    "tags": []
   },
   "outputs": [
    {
     "data": {
      "application/vnd.jupyter.widget-view+json": {
       "model_id": "4ae0e42b498b46a79ab8ee7deb3a2ba4",
       "version_major": 2,
       "version_minor": 0
      },
      "text/plain": [
       "VBox()"
      ]
     },
     "metadata": {},
     "output_type": "display_data"
    },
    {
     "data": {
      "application/vnd.jupyter.widget-view+json": {
       "model_id": "",
       "version_major": 2,
       "version_minor": 0
      },
      "text/plain": [
       "FloatProgress(value=0.0, bar_style='info', description='Progress:', layout=Layout(height='25px', width='50%'),…"
      ]
     },
     "metadata": {},
     "output_type": "display_data"
    },
    {
     "name": "stdout",
     "output_type": "stream",
     "text": [
      "                     shipper_party_name  count  mean_delay   % Total\n",
      "0            KEIN HING INDUSTRY SDN BHD    188  144.515957  0.000840\n",
      "1     HUBEI GRAND LIFE SCIENCE TECHNOLO     51  128.156863  0.000228\n",
      "2           WENZHOU HOS GARMENT CO.,LTD    107  128.074766  0.000478\n",
      "3    GE HEALTHCARE AUSTRIA GMBH & CO OG     65  118.276923  0.000290\n",
      "4   ANHUI HELI INDUSTRIAL VEHICLE IMP &     53  107.018868  0.000237\n",
      "5         DOLPHIN APPAREL INTERNATIONAL     52  106.923077  0.000232\n",
      "6                          LAITA EXPORT     60  105.800000  0.000268\n",
      "7    APLICACIONES MECANICAS DEL CAUCHO,     60  101.533333  0.000268\n",
      "8                            DEFI GROUP     62  100.080645  0.000277\n",
      "9                  LAPP GMBH KABELWERKE     63   99.984127  0.000282\n",
      "10               FRACCARO SPUMADORO SPA     50   99.800000  0.000223\n",
      "11                              CASSESE     78   95.679487  0.000349\n",
      "12                 SANTUCCI ARMANDO SRL     62   94.145161  0.000277\n",
      "13         ORKLA CONFECTIONERY & SNACKS     65   92.800000  0.000290\n",
      "14     HANGZHOU REFINE IMPORT EXPORT CO    110   92.690909  0.000492\n",
      "15                         OLEIROS S.A.     62   92.661290  0.000277\n",
      "16                            XBK KABEL    140   90.550000  0.000626\n",
      "17         B 4 LIVING SPA BONTEMPI CASA     56   89.214286  0.000250\n",
      "18                          KUREHA LTD.     52   89.038462  0.000232\n",
      "19                      PERNOUD COMPANY     62   88.919355  0.000277\n",
      "20                    ORODJA ERHART DOO    118   87.228814  0.000527\n",
      "21                  NEOPAC HUNGARY LTD.     60   87.016667  0.000268\n",
      "22    OFFICINA DESIGN DI SIALINO ILARIA     54   86.481481  0.000241\n",
      "23            FUNDICIONES DE RODA, S.A.     71   86.394366  0.000317\n",
      "24               LTI-METALLTECHNIK GMBH     99   85.949495  0.000442\n",
      "25                 MONARI FEDERZONI SPA     55   85.509091  0.000246\n",
      "26                       AFA POLYTEK BV     50   85.360000  0.000223\n",
      "27                       BUSCHJOST GMBH    107   84.224299  0.000478\n",
      "28             HAHNEMUEHLE FINEART GMBH    199   83.919598  0.000889\n",
      "29                 VFP INK TECHNOLOGIES     59   83.508475  0.000264"
     ]
    }
   ],
   "source": [
    "row_cnt = df_head_ship.where(F.col('is_delayed') == 'delayed').count()\n",
    "\n",
    "df_delay = (df_head_ship.where(F.col('is_delayed') == 'delayed')\n",
    "                        .groupBy('shipper_party_name')\n",
    "                        .agg(F.count('*').alias('count'), F.mean('delay').alias('mean_delay'))\n",
    "                        .select('shipper_party_name', 'count', 'mean_delay',\n",
    "                            (F.col('count')/F.lit(row_cnt)*100).alias('% Total'))\n",
    "                        .where(F.col('count') >= 50)\n",
    "                        .orderBy(F.desc('mean_delay')).toPandas())\n",
    "\n",
    "write_csv = df_delay.to_csv(index=False)\n",
    "s3.put_object(Body=write_csv, Bucket=dir_, Key='extracted_csv/mean_order_mean_shipper_delay.csv')\n",
    "df_delay.head(30)"
   ]
  },
  {
   "cell_type": "markdown",
   "metadata": {
    "execution": {
     "iopub.execute_input": "2023-06-10T13:34:05.995690Z",
     "iopub.status.busy": "2023-06-10T13:34:05.995231Z",
     "iopub.status.idle": "2023-06-10T13:34:06.094487Z",
     "shell.execute_reply": "2023-06-10T13:34:06.093578Z",
     "shell.execute_reply.started": "2023-06-10T13:34:05.995644Z"
    }
   },
   "source": [
    "#### Mean Shipper Delay Count"
   ]
  },
  {
   "cell_type": "code",
   "execution_count": 310,
   "metadata": {
    "execution": {
     "iopub.execute_input": "2023-06-01T18:24:18.039305Z",
     "iopub.status.busy": "2023-06-01T18:24:18.039026Z",
     "iopub.status.idle": "2023-06-01T18:25:08.586999Z",
     "shell.execute_reply": "2023-06-01T18:25:08.569087Z",
     "shell.execute_reply.started": "2023-06-01T18:24:18.039272Z"
    },
    "tags": []
   },
   "outputs": [
    {
     "data": {
      "application/vnd.jupyter.widget-view+json": {
       "model_id": "15db12d7525447b29930de57fc5c2062",
       "version_major": 2,
       "version_minor": 0
      },
      "text/plain": [
       "VBox()"
      ]
     },
     "metadata": {},
     "output_type": "display_data"
    },
    {
     "data": {
      "application/vnd.jupyter.widget-view+json": {
       "model_id": "",
       "version_major": 2,
       "version_minor": 0
      },
      "text/plain": [
       "FloatProgress(value=0.0, bar_style='info', description='Progress:', layout=Layout(height='25px', width='50%'),…"
      ]
     },
     "metadata": {},
     "output_type": "display_data"
    },
    {
     "name": "stdout",
     "output_type": "stream",
     "text": [
      "                     shipper_party_name   count  mean_delay   % Total\n",
      "0    ORIENT EXPRESS CONTAINER CO., LTD.  107912    2.783907  0.482252\n",
      "1          HONOUR LANE SHIPPING LIMITED   72979    2.767920  0.326139\n",
      "2   BEIJING KANG JIE KONG INTERNATIONAL   59164    2.874079  0.264400\n",
      "3                HECNY SHIPPING LIMITED   48700    2.757084  0.217637\n",
      "4       DE WELL CONTAINER SHIPPING INC.   47692    2.747044  0.213133\n",
      "5        TOPOCEAN CONSOLIDATION SERVICE   35711    3.091344  0.159590\n",
      "6             PANTOS LOGISTICS CO.,LTD.   34535    2.647112  0.154335\n",
      "7           FEDEX INTERNATIONAL FREIGHT   32685    3.903778  0.146067\n",
      "8   BEIJING KANG-JIE-KONG INTERNATIONAL   28097    3.228494  0.125564\n",
      "9             HONOUR LANE SHIPPING LTD.   27539    3.044628  0.123070\n",
      "10           PUDONG PRIME INTERNATIONAL   25359    2.944398  0.113328\n",
      "11        INTERGLOBO NORTH AMERICA INC.   24846    2.941158  0.111035\n",
      "12         SAMSUNG ELECTRONICS CO., LTD   24707    2.791921  0.110414\n",
      "13  ORIENT STAR TRANSPORT INTERNATIONAL   24272    2.582605  0.108470\n",
      "14   TOLL GLOBAL FORWARDING (HONG KONG)   23894    2.753829  0.106781\n",
      "15                     WANG ZHANG JIANG   23857    4.174121  0.106616\n",
      "16             NEPTUNE SHIPPING LIMITED   22687    3.084233  0.101387\n",
      "17   DHL GLOBAL FORWARDING (CHINA) CO.,   22578    2.604837  0.100900\n",
      "18                    XYLEM EUROPE GMBH   22477   13.313921  0.100448\n",
      "19          BARSAN GLOBAL LOJISTIK A.S.   22440    3.217959  0.100283\n",
      "20  TOPOCEAN CONSOLIDATION SERVICE (CHI   21848    2.831792  0.097637\n",
      "21    ORIENT EXPRESS CONTAINER CO.,LTD.   21825    2.653517  0.097535\n",
      "22  APM GLOBAL LOGISTICS BANGLADESH LTD   21734    2.719058  0.097128\n",
      "23        CITY OCEAN LOGISTICS CO.,LTD.   21021    2.754055  0.093942\n",
      "24                 RS LOGISTICS LIMITED   20437    2.715320  0.091332\n",
      "25       KERRY-APEX (THAILAND) CO.,LTD.   20307    2.664451  0.090751\n",
      "26         SAFROUND LOGISTICS CO., LTD.   18963    2.727522  0.084745\n",
      "27   U.S.UNITED LOGISTICS (NINGBO) INC.   18956    2.709432  0.084713\n",
      "28         KUEHNE + NAGEL (AG & CO.) KG   18856    2.760819  0.084266\n",
      "29     CHINATRANS INTERNATIONAL LIMITED   18118    2.767414  0.080968"
     ]
    }
   ],
   "source": [
    "row_cnt = df_head_ship.where(F.col('is_delayed') == 'delayed').count()\n",
    "\n",
    "df_delay = (df_head_ship.where(F.col('is_delayed') == 'delayed')\n",
    "                        .groupBy('shipper_party_name')\n",
    "                        .agg(F.count('*').alias('count'), F.mean('delay').alias('mean_delay'))\n",
    "                        .select('shipper_party_name', 'count', 'mean_delay',\n",
    "                            (F.col('count')/F.lit(row_cnt)*100).alias('% Total'))\n",
    "                        .where(F.col('count') >= 50)\n",
    "                        .orderBy(F.desc('count')).toPandas())\n",
    "\n",
    "write_csv = df_delay.to_csv(index=False)\n",
    "s3.put_object(Body=write_csv, Bucket=dir_, Key='extracted_csv/mean_order_count_shipper_delay.csv')\n",
    "df_delay.head(30)"
   ]
  },
  {
   "cell_type": "code",
   "execution_count": 311,
   "metadata": {
    "execution": {
     "iopub.execute_input": "2023-06-01T18:25:08.588300Z",
     "iopub.status.busy": "2023-06-01T18:25:08.588057Z",
     "iopub.status.idle": "2023-06-01T18:25:54.036581Z",
     "shell.execute_reply": "2023-06-01T18:25:54.035825Z",
     "shell.execute_reply.started": "2023-06-01T18:25:08.588275Z"
    },
    "tags": []
   },
   "outputs": [
    {
     "data": {
      "application/vnd.jupyter.widget-view+json": {
       "model_id": "85ac5e07c8e247ce881ff706420be509",
       "version_major": 2,
       "version_minor": 0
      },
      "text/plain": [
       "VBox()"
      ]
     },
     "metadata": {},
     "output_type": "display_data"
    },
    {
     "data": {
      "application/vnd.jupyter.widget-view+json": {
       "model_id": "",
       "version_major": 2,
       "version_minor": 0
      },
      "text/plain": [
       "FloatProgress(value=0.0, bar_style='info', description='Progress:', layout=Layout(height='25px', width='50%'),…"
      ]
     },
     "metadata": {},
     "output_type": "display_data"
    },
    {
     "name": "stdout",
     "output_type": "stream",
     "text": [
      "                     shipper_party_name  count  mean_delay   % Total\n",
      "0                          DAALIMPEX BV    137  -78.905109  0.000779\n",
      "1                         LIKEMEAT GMBH     83  -77.759036  0.000472\n",
      "2          PERFETTI VAN MELLE GIDA SAN.     52  -72.211538  0.000296\n",
      "3   FOSHAN NANHAI RONGJIA IMPORT & EXPO     67  -71.537313  0.000381\n",
      "4    KUNSHAN RED WOOD ENTERPRISE CO.,LT     51  -66.960784  0.000290\n",
      "5              GEMORE TECHNOLOGY CO LTD     52  -59.057692  0.000296\n",
      "6         AGRIGUM INTERNATIONAL LIMITED     59  -58.355932  0.000336\n",
      "7                     GRADCO JAPAN LTD.     51  -57.392157  0.000290\n",
      "8                                 SOMFY    160  -56.975000  0.000910\n",
      "9                   ACCSYS TECHNOLOGIES     69  -51.318841  0.000392\n",
      "10                        JIHOSTROJ A S    162  -51.055556  0.000921\n",
      "11                GRACEFUL TEAM LIMITED     62  -50.564516  0.000353\n",
      "12    GUANGDONG DEHE TECHNOLOGY CO.,LTD     82  -48.804878  0.000466\n",
      "13       PT. DONG YANG ILLUST INDONESIA     51  -48.784314  0.000290\n",
      "14              ZIEHL-ABEGG DANMARK APS     52  -48.538462  0.000296\n",
      "15         TRUMPF MASCH.AUSTR.GMBH&COKG     93  -47.376344  0.000529\n",
      "16             FINEST INDUSTRIAL CO LTD     58  -46.879310  0.000330\n",
      "17                    MOVENTAS GEARS OY     67  -46.850746  0.000381\n",
      "18                 BYK NETHERLANDS B.V.    417  -45.095923  0.002372\n",
      "19                       BOBCAT COMPANY    951  -42.706625  0.005409\n",
      "20             OXFORD FROZEN FOODS LTD.    239  -38.853556  0.001359\n",
      "21                        SIGMA-ALDRICH     83  -38.457831  0.000472\n",
      "22            SMILAX PSYLLIUM IMPEX CO.     72  -36.652778  0.000410\n",
      "23    HELLA AUTOMOTIVE MEXICO LIGHTNING     97  -36.525773  0.000552\n",
      "24                       SAMRAT EXPORTS     73  -36.232877  0.000415\n",
      "25  INTEGRATED MICRO ELECTRONICS MEXICO     68  -36.191176  0.000387\n",
      "26             POLYPLEX CORPORATION LTD    197  -35.416244  0.001120\n",
      "27                 TRANSTRADE CZ S.R.O.     65  -35.307692  0.000370\n",
      "28          EKK EAGLE INDUSTRY CO.,LTD.     51  -34.764706  0.000290\n",
      "29  ZHEJIANG XINGXING REFRIGERATION CO.    132  -34.500000  0.000751"
     ]
    }
   ],
   "source": [
    "row_cnt = df_head_ship.where(F.col('is_delayed') != 'delayed').count()\n",
    "\n",
    "df_delay = (df_head_ship.where(F.col('is_delayed') != 'delayed')\n",
    "                        .groupBy('shipper_party_name')\n",
    "                        .agg(F.count('*').alias('count'), F.mean('delay').alias('mean_delay'))\n",
    "                        .select('shipper_party_name', 'count', 'mean_delay',\n",
    "                            (F.col('count')/F.lit(row_cnt)*100).alias('% Total'))\n",
    "                        .where(F.col('count') >= 50)\n",
    "                        .orderBy(F.col('mean_delay')).toPandas())\n",
    "\n",
    "write_csv = df_delay.to_csv(index=False)\n",
    "s3.put_object(Body=write_csv, Bucket=dir_, Key='extracted_csv/mean_order_mean_shipper_early.csv')\n",
    "df_delay.head(30)"
   ]
  },
  {
   "cell_type": "markdown",
   "metadata": {
    "execution": {
     "iopub.execute_input": "2023-06-10T13:35:25.759035Z",
     "iopub.status.busy": "2023-06-10T13:35:25.758704Z",
     "iopub.status.idle": "2023-06-10T13:35:25.814404Z",
     "shell.execute_reply": "2023-06-10T13:35:25.813575Z",
     "shell.execute_reply.started": "2023-06-10T13:35:25.759008Z"
    },
    "tags": []
   },
   "source": [
    "#### Mean Shipper Delay Early Sorted By Count Min 50 Shipments"
   ]
  },
  {
   "cell_type": "code",
   "execution_count": 41,
   "metadata": {
    "execution": {
     "iopub.execute_input": "2023-06-11T05:02:53.535196Z",
     "iopub.status.busy": "2023-06-11T05:02:53.534887Z",
     "iopub.status.idle": "2023-06-11T05:03:42.967456Z",
     "shell.execute_reply": "2023-06-11T05:03:42.966694Z",
     "shell.execute_reply.started": "2023-06-11T05:02:53.535171Z"
    },
    "tags": []
   },
   "outputs": [
    {
     "data": {
      "application/vnd.jupyter.widget-view+json": {
       "model_id": "2163cb2ce0984b729cfe171e3b99d1bb",
       "version_major": 2,
       "version_minor": 0
      },
      "text/plain": [
       "VBox()"
      ]
     },
     "metadata": {},
     "output_type": "display_data"
    },
    {
     "data": {
      "application/vnd.jupyter.widget-view+json": {
       "model_id": "",
       "version_major": 2,
       "version_minor": 0
      },
      "text/plain": [
       "FloatProgress(value=0.0, bar_style='info', description='Progress:', layout=Layout(height='25px', width='50%'),…"
      ]
     },
     "metadata": {},
     "output_type": "display_data"
    },
    {
     "name": "stdout",
     "output_type": "stream",
     "text": [
      "                     shipper_party_name   count  mean_delay   % Total\n",
      "0                      WANG ZHANG JIANG  126208   -0.559711  0.717817\n",
      "1    ORIENT EXPRESS CONTAINER CO., LTD.   54619   -0.147202  0.310649\n",
      "2          HONOUR LANE SHIPPING LIMITED   53830   -0.160338  0.306162\n",
      "3       FOREVER LOGISTICS SHENZHEN CO L   50549   -0.724841  0.287501\n",
      "4   UNION DE BANANEROS ECUATORIANOS S.A   42539   -0.082842  0.241944\n",
      "5     SHENZHEN GUANGCHI LOGISTICS CO LT   41656   -0.531256  0.236921\n",
      "6   BEIJING KANG JIE KONG INTERNATIONAL   38176   -0.238579  0.217129\n",
      "7                HECNY SHIPPING LIMITED   34304   -0.271105  0.195106\n",
      "8       DE WELL CONTAINER SHIPPING INC.   34070   -0.210273  0.193776\n",
      "9   SCHAEFFLER TECHNOLOGIES AG & CO. KG   31269   -3.383383  0.177845\n",
      "10       TOPOCEAN CONSOLIDATION SERVICE   30453   -0.172495  0.173204\n",
      "11         ROYAL CARIBBEAN CRUISES LTD.   28333   -0.043871  0.161146\n",
      "12  SHENZHEN GLOBAL LEADER SUPPLY CHAIN   26010   -1.597732  0.147934\n",
      "13   U.S.UNITED LOGISTICS (NINGBO) INC.   23156   -0.117464  0.131701\n",
      "14  HANGZHOU FAR INTERNATIONAL LOGISITI   22204   -0.755945  0.126287\n",
      "15        INTERGLOBO NORTH AMERICA INC.   20756   -0.244267  0.118051\n",
      "16    INTERNATIONAL AUTO LOGISTICS, LLC   20592   -0.776904  0.117118\n",
      "17            PANTOS LOGISTICS CO.,LTD.   20511   -0.136658  0.116658\n",
      "18          FEDEX INTERNATIONAL FREIGHT   20486   -0.102265  0.116516\n",
      "19                 RS LOGISTICS LIMITED   20434   -0.106293  0.116220\n",
      "20         KUEHNE + NAGEL (AG & CO.) KG   20319   -0.286087  0.115566\n",
      "21         BEIJING CENTURY JOYO COURIER   20229   -0.061446  0.115054\n",
      "22                    NCL (BAHAMAS) LTD   20216   -0.011526  0.114980\n",
      "23         SAMSUNG ELECTRONICS CO., LTD   18896   -0.361611  0.107472\n",
      "24            HONOUR LANE SHIPPING LTD.   18334   -0.185830  0.104276\n",
      "25       MAGICAL CRUISE COMPANY LIMITED   18241    0.000000  0.103747\n",
      "26     K-APEX LOGISTICS (SHENZHEN) CO.,   17168   -0.097915  0.097644\n",
      "27    ORIENT EXPRESS CONTAINER CO.,LTD.   16185   -0.138338  0.092053\n",
      "28   DHL GLOBAL FORWARDING (CHINA) CO.,   15962   -0.156622  0.090785\n",
      "29       MASTER INTERNATIONAL LOGISTICS   15531   -0.062971  0.088334"
     ]
    }
   ],
   "source": [
    "row_cnt = df_head_ship.where(F.col('is_delayed') != 'delayed').count()\n",
    "\n",
    "df_delay = (df_head_ship.where(F.col('is_delayed') != 'delayed')\n",
    "                        .groupBy('shipper_party_name')\n",
    "                        .agg(F.count('*').alias('count'), F.mean('delay').alias('mean_delay'))\n",
    "                        .select('shipper_party_name', 'count', 'mean_delay',\n",
    "                            (F.col('count')/F.lit(row_cnt)*100).alias('% Total'))\n",
    "                        .where(F.col('count') >= 50)\n",
    "                        .orderBy(F.desc('count')).toPandas())\n",
    "\n",
    "write_csv = df_delay.to_csv(index=False)\n",
    "s3.put_object(Body=write_csv, Bucket=dir_, Key='extracted_csv/mean_order_count_shipper_early.csv')\n",
    "df_delay.head(30)"
   ]
  },
  {
   "cell_type": "markdown",
   "metadata": {
    "execution": {
     "iopub.execute_input": "2023-06-11T05:03:47.337254Z",
     "iopub.status.busy": "2023-06-11T05:03:47.336950Z",
     "iopub.status.idle": "2023-06-11T05:03:47.385469Z",
     "shell.execute_reply": "2023-06-11T05:03:47.384593Z",
     "shell.execute_reply.started": "2023-06-11T05:03:47.337229Z"
    }
   },
   "source": [
    "### Mean Delayed Shipper Min 50 Shipments"
   ]
  },
  {
   "cell_type": "code",
   "execution_count": 314,
   "metadata": {
    "execution": {
     "iopub.execute_input": "2023-06-01T18:27:33.019777Z",
     "iopub.status.busy": "2023-06-01T18:27:33.019523Z",
     "iopub.status.idle": "2023-06-01T18:28:22.559934Z",
     "shell.execute_reply": "2023-06-01T18:28:22.558280Z",
     "shell.execute_reply.started": "2023-06-01T18:27:33.019731Z"
    },
    "tags": []
   },
   "outputs": [
    {
     "data": {
      "application/vnd.jupyter.widget-view+json": {
       "model_id": "bfc19aa85faa4cdabe8de3ec228ab502",
       "version_major": 2,
       "version_minor": 0
      },
      "text/plain": [
       "VBox()"
      ]
     },
     "metadata": {},
     "output_type": "display_data"
    },
    {
     "data": {
      "application/vnd.jupyter.widget-view+json": {
       "model_id": "",
       "version_major": 2,
       "version_minor": 0
      },
      "text/plain": [
       "FloatProgress(value=0.0, bar_style='info', description='Progress:', layout=Layout(height='25px', width='50%'),…"
      ]
     },
     "metadata": {},
     "output_type": "display_data"
    },
    {
     "name": "stdout",
     "output_type": "stream",
     "text": [
      "                     shipper_party_name  actual_year  ...  mean_delay  row_num\n",
      "0        SCHAEFFLER TECH GMBH AND CO KG         2018  ...  125.103448        1\n",
      "1   BECTON DICKINSON DE MEXICO SA DE CV         2018  ...   99.892323        2\n",
      "2                        EICHHOLTZ B.V.         2018  ...   98.106061        3\n",
      "3                             XBK KABEL         2018  ...   92.096154        4\n",
      "4             GE JENBACHER GMBH & CO OG         2018  ...   82.108696        5\n",
      "5                        U.I. LAPP GMBH         2018  ...   76.944444        6\n",
      "6                           NEDMAG B.V.         2018  ...   72.776471        7\n",
      "7                     DR. OTTO SUWELACK         2018  ...   68.972973        8\n",
      "8              HAHNEMUEHLE FINEART GMBH         2018  ...   66.147826        9\n",
      "9                   BRAVILOR BONAMAT BV         2018  ...   64.444444       10\n",
      "10   NUOVA INDUSTRIA BISCOTTI CRICH SPA         2020  ...  156.607843        1\n",
      "11                         BRENNTAG SPA         2020  ...  153.492063        2\n",
      "12     EBM PAPST MULFINGEN GMBH & CO.KG         2020  ...  127.813043        3\n",
      "13                  B.S. SERVICE S.R.L.         2020  ...  121.836364        4\n",
      "14   JIANGSU GUOTAI HUASHENG INDUSTRIAL         2020  ...  121.426540        5\n",
      "15   EBM-PAPST ST. GEORGEN GMBH & CO. K         2020  ...  116.672316        6\n",
      "16                KAY & EMMS (PVT) LTD.         2020  ...  115.546512        7\n",
      "17                SIGNODE INDIA LIMITED         2020  ...  108.456140        8\n",
      "18                               BRIDOR         2020  ...  100.287879        9\n",
      "19                    ORODJA ERHART DOO         2020  ...   99.950495       10\n",
      "20        COLOR STAR FUZHOU PRODUCTS CO         2019  ...  176.250000        1\n",
      "21           KEIN HING INDUSTRY SDN BHD         2019  ...  169.456250        2\n",
      "22          FOSSIL ASIA PACIFIC LIMITED         2019  ...  168.555556        3\n",
      "23                 FAG ARTIGRAFICHE SPA         2019  ...  156.084507        4\n",
      "24      ADIENT COMPONENTS LTD. & CO. KG         2019  ...  150.020202        5\n",
      "25                     XIAMEN LOMAX IND         2019  ...  139.743902        6\n",
      "26     HANGZHOU REFINE IMPORT EXPORT CO         2019  ...  135.445946        7\n",
      "27   ORIENTAL INTERNATIONAL TRADE CO LT         2019  ...  133.520000        8\n",
      "28    H-D MOTOR COMPANY INDIA PVT. LTD.         2019  ...  127.506849        9\n",
      "29          WENZHOU HOS GARMENT CO.,LTD         2019  ...  127.339623       10\n",
      "\n",
      "[30 rows x 5 columns]"
     ]
    }
   ],
   "source": [
    "row_cnt = df_head_ship.where(F.col('is_delayed') == 'delayed').count()\n",
    "\n",
    "df_delay = (df_head_ship.where(F.col('is_delayed') == 'delayed')\n",
    "                        .groupBy('shipper_party_name', 'actual_year')\n",
    "                        .agg(F.count('*').alias('count'), F.mean('delay').alias('mean_delay'))\n",
    "                        .orderBy(F.desc('count'))\n",
    "                        .where(F.col('count') >= 50))\n",
    "\n",
    "window_spec = Window.partitionBy([\"actual_year\"]).orderBy(df_delay[\"mean_delay\"].desc())\n",
    "\n",
    "df_delay = df_delay.withColumn(\"row_num\", row_number().over(window_spec))\n",
    "\n",
    "# Filter the DataFrame to get the top 10 rows for each year\n",
    "N = 10\n",
    "df_delay = df_delay.filter(df_delay.row_num <= N).toPandas()\n",
    "\n",
    "write_csv = df_delay.to_csv(index=False)\n",
    "s3.put_object(Body=write_csv, Bucket=dir_, Key='extracted_csv/delayed_country_mean_desc_year.csv')\n",
    "df_delay.head(30)"
   ]
  },
  {
   "cell_type": "markdown",
   "metadata": {
    "execution": {
     "iopub.execute_input": "2023-06-11T05:04:04.068609Z",
     "iopub.status.busy": "2023-06-11T05:04:04.068308Z",
     "iopub.status.idle": "2023-06-11T05:04:04.116869Z",
     "shell.execute_reply": "2023-06-11T05:04:04.114260Z",
     "shell.execute_reply.started": "2023-06-11T05:04:04.068583Z"
    }
   },
   "source": [
    "### Mean Eearly Shipper Sort Count Min 50 Shipments"
   ]
  },
  {
   "cell_type": "code",
   "execution_count": 315,
   "metadata": {
    "execution": {
     "iopub.execute_input": "2023-06-01T18:28:22.561622Z",
     "iopub.status.busy": "2023-06-01T18:28:22.561306Z",
     "iopub.status.idle": "2023-06-01T18:29:08.966082Z",
     "shell.execute_reply": "2023-06-01T18:29:08.965339Z",
     "shell.execute_reply.started": "2023-06-01T18:28:22.561588Z"
    },
    "tags": []
   },
   "outputs": [
    {
     "data": {
      "application/vnd.jupyter.widget-view+json": {
       "model_id": "ecaf515d6f144e02a9ce2343f8d2f37c",
       "version_major": 2,
       "version_minor": 0
      },
      "text/plain": [
       "VBox()"
      ]
     },
     "metadata": {},
     "output_type": "display_data"
    },
    {
     "data": {
      "application/vnd.jupyter.widget-view+json": {
       "model_id": "",
       "version_major": 2,
       "version_minor": 0
      },
      "text/plain": [
       "FloatProgress(value=0.0, bar_style='info', description='Progress:', layout=Layout(height='25px', width='50%'),…"
      ]
     },
     "metadata": {},
     "output_type": "display_data"
    },
    {
     "name": "stdout",
     "output_type": "stream",
     "text": [
      "                     shipper_party_name  actual_year  ...  mean_delay  row_num\n",
      "0          HONOUR LANE SHIPPING LIMITED         2018  ...   -0.186350        1\n",
      "1    ORIENT EXPRESS CONTAINER CO., LTD.         2018  ...   -0.205433        2\n",
      "2   UNION DE BANANEROS ECUATORIANOS S.A         2018  ...   -0.107735        3\n",
      "3       DE WELL CONTAINER SHIPPING INC.         2018  ...   -0.156762        4\n",
      "4                HECNY SHIPPING LIMITED         2018  ...   -0.223856        5\n",
      "5        TOPOCEAN CONSOLIDATION SERVICE         2018  ...   -0.242849        6\n",
      "6   BEIJING KANG JIE KONG INTERNATIONAL         2018  ...   -0.293714        7\n",
      "7          ROYAL CARIBBEAN CRUISES LTD.         2018  ...   -0.023858        8\n",
      "8                  CARNIVAL CRUISE LINE         2018  ...   -0.028150        9\n",
      "9                     NCL (BAHAMAS) LTD         2018  ...   -0.001220       10\n",
      "10                     WANG ZHANG JIANG         2020  ...   -0.559711        1\n",
      "11      FOREVER LOGISTICS SHENZHEN CO L         2020  ...   -0.724841        2\n",
      "12    SHENZHEN GUANGCHI LOGISTICS CO LT         2020  ...   -0.531256        3\n",
      "13  SHENZHEN GLOBAL LEADER SUPPLY CHAIN         2020  ...   -1.597732        4\n",
      "14  HANGZHOU FAR INTERNATIONAL LOGISITI         2020  ...   -0.755945        5\n",
      "15   ORIENT EXPRESS CONTAINER CO., LTD.         2020  ...   -0.127746        6\n",
      "16         HONOUR LANE SHIPPING LIMITED         2020  ...   -0.197707        7\n",
      "17  UNION DE BANANEROS ECUATORIANOS S.A         2020  ...   -0.008471        8\n",
      "18         KUEHNE + NAGEL (AG & CO.) KG         2020  ...   -0.412094        9\n",
      "19  BEIJING KANG JIE KONG INTERNATIONAL         2020  ...   -0.226013       10\n",
      "20         HONOUR LANE SHIPPING LIMITED         2019  ...   -0.112820        1\n",
      "21   ORIENT EXPRESS CONTAINER CO., LTD.         2019  ...   -0.108305        2\n",
      "22  UNION DE BANANEROS ECUATORIANOS S.A         2019  ...   -0.116477        3\n",
      "23  SCHAEFFLER TECHNOLOGIES AG & CO. KG         2019  ...   -2.624026        4\n",
      "24  BEIJING KANG JIE KONG INTERNATIONAL         2019  ...   -0.201280        5\n",
      "25               HECNY SHIPPING LIMITED         2019  ...   -0.102986        6\n",
      "26      DE WELL CONTAINER SHIPPING INC.         2019  ...   -0.072092        7\n",
      "27         ROYAL CARIBBEAN CRUISES LTD.         2019  ...   -0.029552        8\n",
      "28       TOPOCEAN CONSOLIDATION SERVICE         2019  ...   -0.139537        9\n",
      "29    INTERNATIONAL AUTO LOGISTICS, LLC         2019  ...   -0.241741       10\n",
      "\n",
      "[30 rows x 5 columns]"
     ]
    }
   ],
   "source": [
    "row_cnt = df_head_ship.where(F.col('is_delayed') != 'delayed').count()\n",
    "\n",
    "df_delay = (df_head_ship.where(F.col('is_delayed') != 'delayed')\n",
    "                        .groupBy('shipper_party_name', 'actual_year')\n",
    "                        .agg(F.count('*').alias('count'), F.mean('delay').alias('mean_delay'))\n",
    "                        .orderBy(F.desc('count'))\n",
    "                        .where(F.col('count') >= 50))\n",
    "\n",
    "window_spec = Window.partitionBy([\"actual_year\"]).orderBy(df_delay[\"count\"].desc())\n",
    "\n",
    "df_delay = df_delay.withColumn(\"row_num\", row_number().over(window_spec))\n",
    "\n",
    "# Filter the DataFrame to get the top 10 rows for each year\n",
    "N = 10\n",
    "df_delay = df_delay.filter(df_delay.row_num <= N).toPandas()\n",
    "\n",
    "write_csv = df_delay.to_csv(index=False)\n",
    "s3.put_object(Body=write_csv, Bucket=dir_, Key='extracted_csv/early_shipper_count_year.csv')\n",
    "df_delay.head(30)"
   ]
  },
  {
   "cell_type": "markdown",
   "metadata": {
    "execution": {
     "iopub.execute_input": "2023-06-10T13:36:17.894355Z",
     "iopub.status.busy": "2023-06-10T13:36:17.894026Z",
     "iopub.status.idle": "2023-06-10T13:36:17.942602Z",
     "shell.execute_reply": "2023-06-10T13:36:17.941712Z",
     "shell.execute_reply.started": "2023-06-10T13:36:17.894328Z"
    }
   },
   "source": [
    "#### Top 10 Mean Shipper Early Count Min 50 Shipments"
   ]
  },
  {
   "cell_type": "code",
   "execution_count": 316,
   "metadata": {
    "execution": {
     "iopub.execute_input": "2023-06-01T18:29:08.967417Z",
     "iopub.status.busy": "2023-06-01T18:29:08.967157Z",
     "iopub.status.idle": "2023-06-01T18:29:54.445256Z",
     "shell.execute_reply": "2023-06-01T18:29:54.444319Z",
     "shell.execute_reply.started": "2023-06-01T18:29:08.967391Z"
    },
    "tags": []
   },
   "outputs": [
    {
     "data": {
      "application/vnd.jupyter.widget-view+json": {
       "model_id": "fd33389b11a842f6900eabe65f0ebf62",
       "version_major": 2,
       "version_minor": 0
      },
      "text/plain": [
       "VBox()"
      ]
     },
     "metadata": {},
     "output_type": "display_data"
    },
    {
     "data": {
      "application/vnd.jupyter.widget-view+json": {
       "model_id": "",
       "version_major": 2,
       "version_minor": 0
      },
      "text/plain": [
       "FloatProgress(value=0.0, bar_style='info', description='Progress:', layout=Layout(height='25px', width='50%'),…"
      ]
     },
     "metadata": {},
     "output_type": "display_data"
    },
    {
     "name": "stdout",
     "output_type": "stream",
     "text": [
      "                     shipper_party_name  actual_year  ...  mean_delay  row_num\n",
      "0                          DAALIMPEX BV         2018  ... -100.274725        1\n",
      "1                         LIKEMEAT GMBH         2018  ...  -89.166667        2\n",
      "2          CHAMAN LAL SETIA EXPORTS LTD         2018  ...  -68.535211        3\n",
      "3                  BYK NETHERLANDS B.V.         2018  ...  -63.568345        4\n",
      "4   ZHEJIANG XINGXING REFRIGERATION CO.         2018  ...  -63.055556        5\n",
      "5              POLYPLEX CORPORATION LTD         2018  ...  -57.841667        6\n",
      "6                         SIGMA-ALDRICH         2018  ...  -53.103448        7\n",
      "7               ZIEHL-ABEGG DANMARK APS         2018  ...  -48.538462        8\n",
      "8          TRUMPF MASCH.AUSTR.GMBH&COKG         2018  ...  -47.376344        9\n",
      "9                        BOBCAT COMPANY         2018  ...  -42.412698       10\n",
      "10    GUANGDONG DEHE TECHNOLOGY CO.,LTD         2020  ...  -49.370370        1\n",
      "11                       BOBCAT COMPANY         2020  ...  -41.722222        2\n",
      "12                DATALOGIC VIETNAM LLC         2020  ...  -34.924051        3\n",
      "13     SILGAN DISPENSING SYSTEMS MEXICO         2020  ...  -34.870370        4\n",
      "14                      PT. DAMAI ABADI         2020  ...  -34.596154        5\n",
      "15           SEAL ELECTRONICS ASIA LTD.         2020  ...  -34.551282        6\n",
      "16                AMROSIA GROUP LIMITED         2020  ...  -34.491525        7\n",
      "17  RICHARDSON OILSEED PRODUCTS LIMITED         2020  ...  -34.193277        8\n",
      "18    TORAY ADVANCED TEXTILE MEXICO S A         2020  ...  -33.648148        9\n",
      "19  MEITU INTERNATIONAL TRADING LIMITED         2020  ...  -33.585586       10\n",
      "20                        JIHOSTROJ A S         2019  ...  -61.380952        1\n",
      "21                                SOMFY         2019  ...  -60.805085        2\n",
      "22                    MOVENTAS GEARS OY         2019  ...  -56.000000        3\n",
      "23                      PT. STAR CAMTEX         2019  ...  -51.384615        4\n",
      "24         WALTHER TROWAL GMBH & CO. KG         2019  ...  -50.666667        5\n",
      "25   AESTHETIC LIVING MERCHANTS PVT LTD         2019  ...  -47.481481        6\n",
      "26             SONIC TEXTILE INDUSTRIES         2019  ...  -44.926471        7\n",
      "27             OXFORD FROZEN FOODS LTD.         2019  ...  -44.920455        8\n",
      "28               STANNAH STAIRLIFTS LTD         2019  ...  -44.217391        9\n",
      "29                       BOBCAT COMPANY         2019  ...  -43.290667       10\n",
      "\n",
      "[30 rows x 5 columns]"
     ]
    }
   ],
   "source": [
    "row_cnt = df_head_ship.where(F.col('is_delayed') != 'delayed').count()\n",
    "\n",
    "df_delay = (df_head_ship.where(F.col('is_delayed') != 'delayed')\n",
    "                        .groupBy('shipper_party_name', 'actual_year')\n",
    "                        .agg(F.count('*').alias('count'), F.mean('delay').alias('mean_delay'))\n",
    "                        .orderBy(F.desc('count'))\n",
    "                        .where(F.col('count') >= 50))\n",
    "\n",
    "window_spec = Window.partitionBy([\"actual_year\"]).orderBy(df_delay[\"mean_delay\"])\n",
    "\n",
    "df_delay = df_delay.withColumn(\"row_num\", row_number().over(window_spec))\n",
    "\n",
    "# Filter the DataFrame to get the top 10 rows for each year\n",
    "N = 10\n",
    "df_delay = df_delay.filter(df_delay.row_num <= N).toPandas()\n",
    "\n",
    "write_csv = df_delay.to_csv(index=False)\n",
    "s3.put_object(Body=write_csv, Bucket=dir_, Key='extracted_csv/early_shipper_mean_desc_year.csv')\n",
    "df_delay.head(30)"
   ]
  }
 ],
 "metadata": {
  "kernelspec": {
   "display_name": "PySpark",
   "language": "python",
   "name": "pysparkkernel"
  },
  "language_info": {
   "codemirror_mode": {
    "name": "python",
    "version": 3
   },
   "file_extension": ".py",
   "mimetype": "text/x-python",
   "name": "pyspark",
   "pygments_lexer": "python3"
  }
 },
 "nbformat": 4,
 "nbformat_minor": 4
}
